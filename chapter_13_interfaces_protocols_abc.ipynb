{
 "cells": [
  {
   "cell_type": "markdown",
   "id": "404f7fbb-befb-4d42-81f6-1e63cf7896b4",
   "metadata": {
    "jp-MarkdownHeadingCollapsed": true
   },
   "source": [
    "#### Пример 13.1.Частичная реализация протокола последовательности – метода __getitem__"
   ]
  },
  {
   "cell_type": "code",
   "execution_count": 2,
   "id": "3d9d3cd4-2d2d-47c2-b698-c3e26f91b8c9",
   "metadata": {},
   "outputs": [
    {
     "data": {
      "text/plain": [
       "'A'"
      ]
     },
     "execution_count": 2,
     "metadata": {},
     "output_type": "execute_result"
    }
   ],
   "source": [
    "class Vowels:\n",
    "    def __getitem__(self, i):\n",
    "        return 'AEIOU'[i]\n",
    "\n",
    "v = Vowels()\n",
    "v[0]"
   ]
  },
  {
   "cell_type": "code",
   "execution_count": 4,
   "id": "0652f6da-d8e7-4158-bd68-d729cb01656e",
   "metadata": {},
   "outputs": [
    {
     "data": {
      "text/plain": [
       "'U'"
      ]
     },
     "execution_count": 4,
     "metadata": {},
     "output_type": "execute_result"
    }
   ],
   "source": [
    "v[-1]"
   ]
  },
  {
   "cell_type": "code",
   "execution_count": 3,
   "id": "7ae20dce-f7d1-47f6-bcdd-8c900d6972ea",
   "metadata": {},
   "outputs": [
    {
     "name": "stdout",
     "output_type": "stream",
     "text": [
      "A\n",
      "E\n",
      "I\n",
      "O\n",
      "U\n"
     ]
    }
   ],
   "source": [
    "for c in v: \n",
    "    print(c)"
   ]
  },
  {
   "cell_type": "code",
   "execution_count": 5,
   "id": "d4c77567-f504-413e-a15d-6891e6ebdb3c",
   "metadata": {},
   "outputs": [
    {
     "data": {
      "text/plain": [
       "True"
      ]
     },
     "execution_count": 5,
     "metadata": {},
     "output_type": "execute_result"
    }
   ],
   "source": [
    "'E' in v"
   ]
  },
  {
   "cell_type": "code",
   "execution_count": 6,
   "id": "058e119b-e264-4167-ae0b-6de79d69816b",
   "metadata": {},
   "outputs": [
    {
     "data": {
      "text/plain": [
       "False"
      ]
     },
     "execution_count": 6,
     "metadata": {},
     "output_type": "execute_result"
    }
   ],
   "source": [
    "'Z' in v"
   ]
  },
  {
   "cell_type": "markdown",
   "id": "377efdb2-cd64-4a56-8f6a-7cccc7218332",
   "metadata": {
    "jp-MarkdownHeadingCollapsed": true
   },
   "source": [
    "#### Пример 13.2. Колода как последовательность карт (тот же код, что в примере 1.1)"
   ]
  },
  {
   "cell_type": "code",
   "execution_count": 7,
   "id": "2a80da52-8a5c-4914-872f-5ad0beceb94d",
   "metadata": {},
   "outputs": [],
   "source": [
    "import collections\n",
    "\n",
    "Card = collections.namedtuple('Card', ['rank', 'suit'])\n",
    "\n",
    "class FrenchDeck:\n",
    "    ranks = [str(n) for n in range(2, 11)] + list('JQKA')\n",
    "    suits = 'spades diamonds clubs hearts'.split()\n",
    "\n",
    "    def __init__(self):\n",
    "        self._cards = [Card(rank, suit) for suit in self.suits\n",
    "                                        for rank in self.ranks]\n",
    "\n",
    "    def __len__(self):\n",
    "        return len(self._cards)\n",
    "\n",
    "    def __getitem__(self, position):\n",
    "        return self._cards[position]"
   ]
  },
  {
   "cell_type": "markdown",
   "id": "bc9fcd06-7f1e-4377-b79a-da3e7cc2630b",
   "metadata": {
    "jp-MarkdownHeadingCollapsed": true
   },
   "source": [
    "#### Партизанское латание как средство реализации протокола во время выполнения"
   ]
  },
  {
   "cell_type": "code",
   "execution_count": 8,
   "id": "908144d4-77ac-424d-97ef-9836fddff3d9",
   "metadata": {},
   "outputs": [
    {
     "data": {
      "text/plain": [
       "[6, 4, 7, 1, 8, 3, 5, 0, 2, 9]"
      ]
     },
     "execution_count": 8,
     "metadata": {},
     "output_type": "execute_result"
    }
   ],
   "source": [
    "from random import shuffle\n",
    "l = list(range(10))\n",
    "shuffle(l)\n",
    "l"
   ]
  },
  {
   "cell_type": "markdown",
   "id": "c8677c02-eb6d-443f-8602-8f6b19c3313b",
   "metadata": {
    "jp-MarkdownHeadingCollapsed": true
   },
   "source": [
    "#### Пример 13.3. random.shuffle не может работать с объектом FrenchDeck"
   ]
  },
  {
   "cell_type": "code",
   "execution_count": 9,
   "id": "293ed7fc-d425-415f-8407-cadba6ecd799",
   "metadata": {},
   "outputs": [
    {
     "ename": "TypeError",
     "evalue": "'FrenchDeck' object does not support item assignment",
     "output_type": "error",
     "traceback": [
      "\u001b[0;31m---------------------------------------------------------------------------\u001b[0m",
      "\u001b[0;31mTypeError\u001b[0m                                 Traceback (most recent call last)",
      "Cell \u001b[0;32mIn[9], line 3\u001b[0m\n\u001b[1;32m      1\u001b[0m \u001b[38;5;28;01mfrom\u001b[39;00m \u001b[38;5;21;01mrandom\u001b[39;00m \u001b[38;5;28;01mimport\u001b[39;00m shuffle\n\u001b[1;32m      2\u001b[0m deck \u001b[38;5;241m=\u001b[39m FrenchDeck()\n\u001b[0;32m----> 3\u001b[0m \u001b[43mshuffle\u001b[49m\u001b[43m(\u001b[49m\u001b[43mdeck\u001b[49m\u001b[43m)\u001b[49m\n",
      "File \u001b[0;32m/usr/lib/python3.10/random.py:394\u001b[0m, in \u001b[0;36mRandom.shuffle\u001b[0;34m(self, x, random)\u001b[0m\n\u001b[1;32m    391\u001b[0m     \u001b[38;5;28;01mfor\u001b[39;00m i \u001b[38;5;129;01min\u001b[39;00m \u001b[38;5;28mreversed\u001b[39m(\u001b[38;5;28mrange\u001b[39m(\u001b[38;5;241m1\u001b[39m, \u001b[38;5;28mlen\u001b[39m(x))):\n\u001b[1;32m    392\u001b[0m         \u001b[38;5;66;03m# pick an element in x[:i+1] with which to exchange x[i]\u001b[39;00m\n\u001b[1;32m    393\u001b[0m         j \u001b[38;5;241m=\u001b[39m randbelow(i \u001b[38;5;241m+\u001b[39m \u001b[38;5;241m1\u001b[39m)\n\u001b[0;32m--> 394\u001b[0m         x[i], x[j] \u001b[38;5;241m=\u001b[39m x[j], x[i]\n\u001b[1;32m    395\u001b[0m \u001b[38;5;28;01melse\u001b[39;00m:\n\u001b[1;32m    396\u001b[0m     _warn(\u001b[38;5;124m'\u001b[39m\u001b[38;5;124mThe *random* parameter to shuffle() has been deprecated\u001b[39m\u001b[38;5;130;01m\\n\u001b[39;00m\u001b[38;5;124m'\u001b[39m\n\u001b[1;32m    397\u001b[0m           \u001b[38;5;124m'\u001b[39m\u001b[38;5;124msince Python 3.9 and will be removed in a subsequent \u001b[39m\u001b[38;5;124m'\u001b[39m\n\u001b[1;32m    398\u001b[0m           \u001b[38;5;124m'\u001b[39m\u001b[38;5;124mversion.\u001b[39m\u001b[38;5;124m'\u001b[39m,\n\u001b[1;32m    399\u001b[0m           \u001b[38;5;167;01mDeprecationWarning\u001b[39;00m, \u001b[38;5;241m2\u001b[39m)\n",
      "\u001b[0;31mTypeError\u001b[0m: 'FrenchDeck' object does not support item assignment"
     ]
    }
   ],
   "source": [
    "from random import shuffle\n",
    "deck = FrenchDeck()\n",
    "shuffle(deck)"
   ]
  },
  {
   "cell_type": "markdown",
   "id": "f3e41d09-c633-43ae-87f3-69825fef1a8d",
   "metadata": {
    "jp-MarkdownHeadingCollapsed": true
   },
   "source": [
    "#### Пример 13.4. Партизанское латание класса FrenchDeck с целью сделать его изменяемым и совместимым с функцией random.shuffle (продолжение примера 13.3)"
   ]
  },
  {
   "cell_type": "code",
   "execution_count": 10,
   "id": "5a04a347-6dbd-4f23-93dd-4ad4890a8b53",
   "metadata": {},
   "outputs": [
    {
     "data": {
      "text/plain": [
       "[Card(rank='K', suit='diamonds'),\n",
       " Card(rank='7', suit='hearts'),\n",
       " Card(rank='2', suit='spades'),\n",
       " Card(rank='Q', suit='clubs'),\n",
       " Card(rank='A', suit='diamonds')]"
      ]
     },
     "execution_count": 10,
     "metadata": {},
     "output_type": "execute_result"
    }
   ],
   "source": [
    "def set_card(deck, position, card):\n",
    "    deck._cards[position] = card\n",
    "\n",
    "FrenchDeck.__setitem__ = set_card\n",
    "shuffle(deck)\n",
    "deck[:5]"
   ]
  },
  {
   "cell_type": "markdown",
   "id": "f4bb7da1-2f98-404e-afe7-3ff7a8bdc00a",
   "metadata": {
    "jp-MarkdownHeadingCollapsed": true
   },
   "source": [
    "#### Пример 13.5. Применение утиной типизации для обработки строки или итерируемого объекта строк"
   ]
  },
  {
   "cell_type": "code",
   "execution_count": 11,
   "id": "37077730-311e-485e-9560-a1c9bb4619ca",
   "metadata": {},
   "outputs": [
    {
     "ename": "NameError",
     "evalue": "name 'field_names' is not defined",
     "output_type": "error",
     "traceback": [
      "\u001b[0;31m---------------------------------------------------------------------------\u001b[0m",
      "\u001b[0;31mNameError\u001b[0m                                 Traceback (most recent call last)",
      "Cell \u001b[0;32mIn[11], line 2\u001b[0m\n\u001b[1;32m      1\u001b[0m \u001b[38;5;28;01mtry\u001b[39;00m:\n\u001b[0;32m----> 2\u001b[0m     field_names \u001b[38;5;241m=\u001b[39m \u001b[43mfield_names\u001b[49m\u001b[38;5;241m.\u001b[39mreplace(\u001b[38;5;124m'\u001b[39m\u001b[38;5;124m,\u001b[39m\u001b[38;5;124m'\u001b[39m, \u001b[38;5;124m'\u001b[39m\u001b[38;5;124m \u001b[39m\u001b[38;5;124m'\u001b[39m)\u001b[38;5;241m.\u001b[39msplit()\n\u001b[1;32m      3\u001b[0m \u001b[38;5;28;01mexcept\u001b[39;00m \u001b[38;5;167;01mAttributeError\u001b[39;00m:\n\u001b[1;32m      4\u001b[0m     \u001b[38;5;28;01mpass\u001b[39;00m\n",
      "\u001b[0;31mNameError\u001b[0m: name 'field_names' is not defined"
     ]
    }
   ],
   "source": [
    "try:\n",
    "    field_names = field_names.replace(',', ' ').split()\n",
    "except AttributeError:\n",
    "    pass\n",
    "field_names = tuple(field_names)\n",
    "if not all(s.isidentifier() for s in field_names):\n",
    "    raise ValueError('field_names must all be valid identifiers')"
   ]
  },
  {
   "cell_type": "markdown",
   "id": "c7bb12b4-4f7b-4673-96ad-452b2effced8",
   "metadata": {
    "jp-MarkdownHeadingCollapsed": true
   },
   "source": [
    "#### Пример 13.6. frenchdeck2.py: FrenchDeck2, подкласс collections.MutableSequence"
   ]
  },
  {
   "cell_type": "code",
   "execution_count": 1,
   "id": "bcf4db2c-aaaa-4d34-a77c-8c12b3e168b2",
   "metadata": {},
   "outputs": [],
   "source": [
    "from collections import namedtuple, abc\n",
    "\n",
    "Card = namedtuple('Card', ['rank', 'suit'])\n",
    "\n",
    "class FrenchDeck2(abc.MutableSequence):\n",
    "    ranks = [str(n) for n in range(2, 11)] + list('JQKA')\n",
    "    suits = 'spades diamonds clubs hearts'.split()\n",
    "\n",
    "    def __init__(self):\n",
    "        self._cards = [Card(rank, suit) for suit in self.suits\n",
    "                                        for rank in self.ranks]\n",
    "\n",
    "    def __len__(self):\n",
    "        return len(self._cards)\n",
    "\n",
    "    def __getitem__(self, position):\n",
    "        return self._cards[position]\n",
    "\n",
    "    def __setitem__(self, position, value):  # <1>\n",
    "        self._cards[position] = value\n",
    "\n",
    "    def __delitem__(self, position):  # <2>\n",
    "        del self._cards[position]\n",
    "\n",
    "    def insert(self, position, value):  # <3>\n",
    "        self._cards.insert(position, value)"
   ]
  },
  {
   "cell_type": "markdown",
   "id": "25856979-3d77-4ddd-b9b8-f3d28302f898",
   "metadata": {
    "jp-MarkdownHeadingCollapsed": true
   },
   "source": [
    "#### Пример 13.7. tombola.py: Tombola – ABC с двумя абстрактными и двумя конкретными методами"
   ]
  },
  {
   "cell_type": "code",
   "execution_count": 1,
   "id": "16bdce53-e018-4097-956e-c984a0320695",
   "metadata": {},
   "outputs": [],
   "source": [
    "import abc\n",
    "\n",
    "class Tombola(abc.ABC):  # <1>\n",
    "\n",
    "    @abc.abstractmethod\n",
    "    def load(self, iterable):  # <2>\n",
    "        \"\"\"Add items from an iterable.\"\"\"\n",
    "\n",
    "    @abc.abstractmethod\n",
    "    def pick(self):  # <3>\n",
    "        \"\"\"Remove item at random, returning it.\n",
    "\n",
    "        This method should raise `LookupError` when the instance is empty.\n",
    "        \"\"\"\n",
    "\n",
    "    def loaded(self):  # <4>\n",
    "        \"\"\"Return `True` if there's at least 1 item, `False` otherwise.\"\"\"\n",
    "        return bool(self.inspect())  # <5>\n",
    "\n",
    "    def inspect(self):\n",
    "        \"\"\"Return a sorted tuple with the items currently inside.\"\"\"\n",
    "        items = []\n",
    "        while True:  # <6>\n",
    "            try:\n",
    "                items.append(self.pick())\n",
    "            except LookupError:\n",
    "                break\n",
    "        self.load(items)  # <7>\n",
    "        return tuple(items)"
   ]
  },
  {
   "cell_type": "markdown",
   "id": "205a27e4-42e3-46dd-9306-c47a1431d3a8",
   "metadata": {
    "jp-MarkdownHeadingCollapsed": true
   },
   "source": [
    "#### Пример 13.8. Непригодная реализация Tombola не останется незамеченной"
   ]
  },
  {
   "cell_type": "code",
   "execution_count": 5,
   "id": "ceef3d8e-4a90-4fd0-86b7-055bbb3d048d",
   "metadata": {},
   "outputs": [
    {
     "data": {
      "text/plain": [
       "__main__.Fake"
      ]
     },
     "execution_count": 5,
     "metadata": {},
     "output_type": "execute_result"
    }
   ],
   "source": [
    "class Fake(Tombola):\n",
    "    def pick(self):\n",
    "        return 13\n",
    "\n",
    "Fake"
   ]
  },
  {
   "cell_type": "code",
   "execution_count": 6,
   "id": "1c06dca0-4f41-465d-8630-277ace59352b",
   "metadata": {},
   "outputs": [
    {
     "ename": "TypeError",
     "evalue": "Can't instantiate abstract class Fake with abstract method load",
     "output_type": "error",
     "traceback": [
      "\u001b[0;31m---------------------------------------------------------------------------\u001b[0m",
      "\u001b[0;31mTypeError\u001b[0m                                 Traceback (most recent call last)",
      "Cell \u001b[0;32mIn[6], line 1\u001b[0m\n\u001b[0;32m----> 1\u001b[0m f \u001b[38;5;241m=\u001b[39m \u001b[43mFake\u001b[49m\u001b[43m(\u001b[49m\u001b[43m)\u001b[49m\n",
      "\u001b[0;31mTypeError\u001b[0m: Can't instantiate abstract class Fake with abstract method load"
     ]
    }
   ],
   "source": [
    "f = Fake()"
   ]
  },
  {
   "cell_type": "markdown",
   "id": "452db46f-dd66-427a-b8f3-ab12787166ac",
   "metadata": {
    "jp-MarkdownHeadingCollapsed": true
   },
   "source": [
    "#### Пример 13.9. bingo.py: BingoCage – конкретный подкласс Tombola"
   ]
  },
  {
   "cell_type": "code",
   "execution_count": 2,
   "id": "2f558ee3-f56a-4249-a200-f57190f37dad",
   "metadata": {},
   "outputs": [],
   "source": [
    "import random\n",
    "\n",
    "\n",
    "class BingoCage(Tombola):  # <1>\n",
    "\n",
    "    def __init__(self, items):\n",
    "        self._randomizer = random.SystemRandom()  # <2>\n",
    "        self._items = []\n",
    "        self.load(items)  # <3>\n",
    "\n",
    "    def load(self, items):\n",
    "        self._items.extend(items)\n",
    "        self._randomizer.shuffle(self._items)  # <4>\n",
    "\n",
    "    def pick(self):  # <5>\n",
    "        try:\n",
    "            return self._items.pop()\n",
    "        except IndexError:\n",
    "            raise LookupError('pick from empty BingoCage')\n",
    "\n",
    "    def __call__(self):  # <6>\n",
    "        self.pick()"
   ]
  },
  {
   "cell_type": "markdown",
   "id": "2bd56ec1-76e5-47d3-a1fa-878c7afbf964",
   "metadata": {
    "jp-MarkdownHeadingCollapsed": true
   },
   "source": [
    "#### Пример 13.10. lotto.py: LotteryBlower – конкретный подкласс, в котором переопределены методы inspect и loaded ABC Tombola"
   ]
  },
  {
   "cell_type": "code",
   "execution_count": 3,
   "id": "7f915cf8-7962-4f7f-a554-4ded75e62bc6",
   "metadata": {},
   "outputs": [],
   "source": [
    "import random\n",
    "\n",
    "\n",
    "class LottoBlower(Tombola):\n",
    "\n",
    "    def __init__(self, iterable):\n",
    "        self._balls = list(iterable)  # <1>\n",
    "\n",
    "    def load(self, iterable):\n",
    "        self._balls.extend(iterable)\n",
    "\n",
    "    def pick(self):\n",
    "        try:\n",
    "            position = random.randrange(len(self._balls))  # <2>\n",
    "        except ValueError:\n",
    "            raise LookupError('pick from empty LottoBlower')\n",
    "        return self._balls.pop(position)  # <3>\n",
    "\n",
    "    def loaded(self):  # <4>\n",
    "        return bool(self._balls)\n",
    "\n",
    "    def inspect(self):  # <5>\n",
    "        return tuple(self._balls)"
   ]
  },
  {
   "cell_type": "markdown",
   "id": "129462c1-f1b9-4945-9567-388158f064ae",
   "metadata": {
    "jp-MarkdownHeadingCollapsed": true
   },
   "source": [
    "#### Пример 13.11. tombolist.py: TomboList – виртуальный подкласс Tombola"
   ]
  },
  {
   "cell_type": "code",
   "execution_count": 5,
   "id": "f41fb9b3-e686-4c85-974c-b2b1d46d1459",
   "metadata": {},
   "outputs": [],
   "source": [
    "from random import randrange\n",
    "\n",
    "\n",
    "@Tombola.register  # <1>\n",
    "class TomboList(list):  # <2>\n",
    "\n",
    "    def pick(self):\n",
    "        if self:  # <3>\n",
    "            position = randrange(len(self))\n",
    "            return self.pop(position)  # <4>\n",
    "        else:\n",
    "            raise LookupError('pop from empty TomboList')\n",
    "\n",
    "    load = list.extend  # <5>\n",
    "\n",
    "    def loaded(self):\n",
    "        return bool(self)  # <6>\n",
    "\n",
    "    def inspect(self):\n",
    "        return tuple(self)\n",
    "\n",
    "# Tombola.register(TomboList)  # <7>"
   ]
  },
  {
   "cell_type": "code",
   "execution_count": 6,
   "id": "fd9bb687-9440-4426-89ba-b6a27705e3ec",
   "metadata": {},
   "outputs": [
    {
     "data": {
      "text/plain": [
       "True"
      ]
     },
     "execution_count": 6,
     "metadata": {},
     "output_type": "execute_result"
    }
   ],
   "source": [
    "issubclass(TomboList, Tombola)"
   ]
  },
  {
   "cell_type": "code",
   "execution_count": 7,
   "id": "605558aa-f17a-4016-88f3-d1c3fc76b6e3",
   "metadata": {},
   "outputs": [
    {
     "data": {
      "text/plain": [
       "True"
      ]
     },
     "execution_count": 7,
     "metadata": {},
     "output_type": "execute_result"
    }
   ],
   "source": [
    "t = TomboList(range(100))\n",
    "isinstance(t, Tombola)"
   ]
  },
  {
   "cell_type": "code",
   "execution_count": 8,
   "id": "de9eb9e7-f59c-4d0c-9f5b-109f9c5d2fb3",
   "metadata": {},
   "outputs": [
    {
     "data": {
      "text/plain": [
       "(__main__.TomboList, list, object)"
      ]
     },
     "execution_count": 8,
     "metadata": {},
     "output_type": "execute_result"
    }
   ],
   "source": [
    "TomboList.__mro__"
   ]
  },
  {
   "cell_type": "code",
   "execution_count": 9,
   "id": "ca52293c-69bb-44fe-8aac-72108559607f",
   "metadata": {},
   "outputs": [
    {
     "data": {
      "text/plain": [
       "True"
      ]
     },
     "execution_count": 9,
     "metadata": {},
     "output_type": "execute_result"
    }
   ],
   "source": [
    "class Struggle:\n",
    "    def __len__(self): return 23\n",
    "\n",
    "from collections import abc\n",
    "isinstance(Struggle(), abc.Sized)"
   ]
  },
  {
   "cell_type": "code",
   "execution_count": 10,
   "id": "064de35a-80fe-45de-b161-e044cec35398",
   "metadata": {},
   "outputs": [
    {
     "data": {
      "text/plain": [
       "True"
      ]
     },
     "execution_count": 10,
     "metadata": {},
     "output_type": "execute_result"
    }
   ],
   "source": [
    "issubclass(Struggle, abc.Sized)"
   ]
  },
  {
   "cell_type": "markdown",
   "id": "0b77af37-889a-406b-8373-12186ed22e6f",
   "metadata": {
    "jp-MarkdownHeadingCollapsed": true
   },
   "source": [
    "#### Пример 13.12.Определениекласса SizedизфайлаLib/_collections_abc.py (https://github.com/python/cpython/blob/0fbddb14dc03f61738af01af88e7d8aa8df07336/Lib/_collections_abc.py#L369)"
   ]
  },
  {
   "cell_type": "code",
   "execution_count": 13,
   "id": "dad6220e-3b3c-4ec7-86c6-329c172cbf57",
   "metadata": {},
   "outputs": [],
   "source": [
    "from abc import ABCMeta, abstractmethod\n",
    "\n",
    "class Sized(metaclass=ABCMeta):\n",
    "    \n",
    "    __slots__ = ()\n",
    "    \n",
    "    @abstractmethod\n",
    "    def __len__(self):\n",
    "        return 0\n",
    "        \n",
    "    @classmethod\n",
    "    def __subclasshook__(cls, C):\n",
    "        if cls is Sized:\n",
    "            if any(\"__len__\" in B.__dict__ for B in C.__mro__):\n",
    "                return True\n",
    "        return NotImplemented"
   ]
  },
  {
   "cell_type": "markdown",
   "id": "44f1595e-2fe2-487f-a43f-c80831c2a89f",
   "metadata": {
    "jp-MarkdownHeadingCollapsed": true
   },
   "source": [
    "#### Типизированная функция double"
   ]
  },
  {
   "cell_type": "code",
   "execution_count": 15,
   "id": "8609a119-9aad-4e1b-ab23-4bce998d9134",
   "metadata": {},
   "outputs": [
    {
     "data": {
      "text/plain": [
       "3.0"
      ]
     },
     "execution_count": 15,
     "metadata": {},
     "output_type": "execute_result"
    }
   ],
   "source": [
    "def double(x):\n",
    "    return x * 2\n",
    "\n",
    "double(1.5)"
   ]
  },
  {
   "cell_type": "code",
   "execution_count": 16,
   "id": "5c7d9994-d3d1-4ddb-8cb0-a00098ab06dc",
   "metadata": {},
   "outputs": [
    {
     "data": {
      "text/plain": [
       "'AA'"
      ]
     },
     "execution_count": 16,
     "metadata": {},
     "output_type": "execute_result"
    }
   ],
   "source": [
    "double('A')"
   ]
  },
  {
   "cell_type": "code",
   "execution_count": 17,
   "id": "2cbdb059-ee1c-4170-89af-38ea99f7ede7",
   "metadata": {},
   "outputs": [
    {
     "data": {
      "text/plain": [
       "[10, 20, 30, 10, 20, 30]"
      ]
     },
     "execution_count": 17,
     "metadata": {},
     "output_type": "execute_result"
    }
   ],
   "source": [
    "double([10, 20, 30])"
   ]
  },
  {
   "cell_type": "code",
   "execution_count": 18,
   "id": "58f69d98-c479-4859-a137-667b55c3307f",
   "metadata": {},
   "outputs": [
    {
     "data": {
      "text/plain": [
       "Fraction(4, 5)"
      ]
     },
     "execution_count": 18,
     "metadata": {},
     "output_type": "execute_result"
    }
   ],
   "source": [
    "from fractions import Fraction\n",
    "double(Fraction(2, 5))"
   ]
  },
  {
   "cell_type": "markdown",
   "id": "d21e517f-6121-4f18-b75e-2d94b966ee52",
   "metadata": {
    "jp-MarkdownHeadingCollapsed": true
   },
   "source": [
    "#### Пример 13.13. double_protocol.py: определение double с использованием Protocol"
   ]
  },
  {
   "cell_type": "code",
   "execution_count": 19,
   "id": "512b1f93-79b8-4ae2-be53-ae7396b6b25d",
   "metadata": {},
   "outputs": [
    {
     "ename": "IndentationError",
     "evalue": "unexpected indent (2611681615.py, line 7)",
     "output_type": "error",
     "traceback": [
      "\u001b[0;36m  Cell \u001b[0;32mIn[19], line 7\u001b[0;36m\u001b[0m\n\u001b[0;31m    pass\u001b[0m\n\u001b[0m    ^\u001b[0m\n\u001b[0;31mIndentationError\u001b[0m\u001b[0;31m:\u001b[0m unexpected indent\n"
     ]
    }
   ],
   "source": [
    "from typing import TypeVar, Protocol\n",
    "\n",
    "T = TypeVar('T')  # <1>\n",
    "\n",
    "class Repeatable(Protocol):\n",
    "    def __mul__(self: T, repeat_count: int) -> T: ...  # <2>\n",
    "        pass\n",
    "\n",
    "RT = TypeVar('RT', bound=Repeatable)  # <3>\n",
    "\n",
    "def double(x: RT) -> RT:  # <4>\n",
    "    return x * 2"
   ]
  },
  {
   "cell_type": "markdown",
   "id": "597d6672-cf0b-4696-8356-320c2d63e763",
   "metadata": {
    "jp-MarkdownHeadingCollapsed": true
   },
   "source": [
    "#### Пример 13.14. Исходный код протокола typing.SupportsComplex"
   ]
  },
  {
   "cell_type": "code",
   "execution_count": 22,
   "id": "3dd2bad2-7969-45a4-95f5-92418c97bc21",
   "metadata": {},
   "outputs": [],
   "source": [
    "from typing import runtime_checkable, Protocol\n",
    "\n",
    "@runtime_checkable\n",
    "class SupportsComplex(Protocol):\n",
    "    \"\"\"ABC с одним абстрактным методом __complex__.\"\"\"\n",
    "    __slots__ = ()\n",
    "    \n",
    "    @abstractmethod\n",
    "    def __complex__(self) -> complex:\n",
    "        pass"
   ]
  },
  {
   "cell_type": "markdown",
   "id": "090a37e9-6fe0-4491-a917-7d29ce5a674a",
   "metadata": {
    "jp-MarkdownHeadingCollapsed": true
   },
   "source": [
    "#### Пример 13.15. Использование SupportsComplex во время выполнения"
   ]
  },
  {
   "cell_type": "code",
   "execution_count": 3,
   "id": "e3a4041b-fa4b-4ec0-bac8-bc86d6680b0e",
   "metadata": {},
   "outputs": [
    {
     "data": {
      "text/plain": [
       "False"
      ]
     },
     "execution_count": 3,
     "metadata": {},
     "output_type": "execute_result"
    }
   ],
   "source": [
    "import numpy as np\n",
    "from typing import SupportsComplex\n",
    "\n",
    "c64 = np.complex64(3+4j)\n",
    "isinstance(c64, complex)"
   ]
  },
  {
   "cell_type": "code",
   "execution_count": 4,
   "id": "ae311e26-c606-43b3-b952-24655501663a",
   "metadata": {},
   "outputs": [
    {
     "data": {
      "text/plain": [
       "True"
      ]
     },
     "execution_count": 4,
     "metadata": {},
     "output_type": "execute_result"
    }
   ],
   "source": [
    "isinstance(c64, SupportsComplex)"
   ]
  },
  {
   "cell_type": "code",
   "execution_count": 5,
   "id": "5932f012-e5c9-45ce-9665-6b82bd42de66",
   "metadata": {},
   "outputs": [
    {
     "data": {
      "text/plain": [
       "(3+4j)"
      ]
     },
     "execution_count": 5,
     "metadata": {},
     "output_type": "execute_result"
    }
   ],
   "source": [
    "c = complex(c64)\n",
    "c"
   ]
  },
  {
   "cell_type": "code",
   "execution_count": 6,
   "id": "00ea23c5-f13b-40ab-ab70-ec582a048f5d",
   "metadata": {},
   "outputs": [
    {
     "data": {
      "text/plain": [
       "False"
      ]
     },
     "execution_count": 6,
     "metadata": {},
     "output_type": "execute_result"
    }
   ],
   "source": [
    "isinstance(c, SupportsComplex)"
   ]
  },
  {
   "cell_type": "code",
   "execution_count": 7,
   "id": "ce87720c-40aa-4af0-a860-56c2e8a81997",
   "metadata": {},
   "outputs": [
    {
     "data": {
      "text/plain": [
       "(3+4j)"
      ]
     },
     "execution_count": 7,
     "metadata": {},
     "output_type": "execute_result"
    }
   ],
   "source": [
    "complex(c)"
   ]
  },
  {
   "cell_type": "code",
   "execution_count": 8,
   "id": "53b824d3-b652-4558-9028-a71d4474843e",
   "metadata": {},
   "outputs": [
    {
     "data": {
      "text/plain": [
       "True"
      ]
     },
     "execution_count": 8,
     "metadata": {},
     "output_type": "execute_result"
    }
   ],
   "source": [
    "isinstance(c, (complex, SupportsComplex))"
   ]
  },
  {
   "cell_type": "code",
   "execution_count": 9,
   "id": "7147b0e5-812f-4f5b-8b23-c6b8bb4fd709",
   "metadata": {},
   "outputs": [
    {
     "data": {
      "text/plain": [
       "True"
      ]
     },
     "execution_count": 9,
     "metadata": {},
     "output_type": "execute_result"
    }
   ],
   "source": [
    "import numbers\n",
    "isinstance(c, numbers.Complex)"
   ]
  },
  {
   "cell_type": "code",
   "execution_count": 10,
   "id": "4a0066cd-8172-4c9a-ac71-23eea5096d65",
   "metadata": {},
   "outputs": [
    {
     "data": {
      "text/plain": [
       "True"
      ]
     },
     "execution_count": 10,
     "metadata": {},
     "output_type": "execute_result"
    }
   ],
   "source": [
    "isinstance(c64, numbers.Complex)"
   ]
  },
  {
   "cell_type": "markdown",
   "id": "e4b20719-3458-404a-9347-2eaca0f8b9ef",
   "metadata": {
    "jp-MarkdownHeadingCollapsed": true
   },
   "source": [
    "#### Ограничения протоколов, допускающих проверку во время выполнения"
   ]
  },
  {
   "cell_type": "code",
   "execution_count": 11,
   "id": "8bbfdbf0-a379-427f-a869-95a1c5e0e9be",
   "metadata": {},
   "outputs": [
    {
     "data": {
      "text/plain": [
       "'3.10.12 (main, Nov 20 2023, 15:14:05) [GCC 11.4.0]'"
      ]
     },
     "execution_count": 11,
     "metadata": {},
     "output_type": "execute_result"
    }
   ],
   "source": [
    "import sys\n",
    "sys.version"
   ]
  },
  {
   "cell_type": "code",
   "execution_count": 12,
   "id": "d2b8b443-741e-4f6a-9718-7848e6917da9",
   "metadata": {},
   "outputs": [
    {
     "ename": "AttributeError",
     "evalue": "'complex' object has no attribute '__float__'",
     "output_type": "error",
     "traceback": [
      "\u001b[0;31m---------------------------------------------------------------------------\u001b[0m",
      "\u001b[0;31mAttributeError\u001b[0m                            Traceback (most recent call last)",
      "Cell \u001b[0;32mIn[12], line 2\u001b[0m\n\u001b[1;32m      1\u001b[0m c \u001b[38;5;241m=\u001b[39m \u001b[38;5;241m3\u001b[39m\u001b[38;5;241m+\u001b[39m\u001b[38;5;241m4\u001b[39mj\n\u001b[0;32m----> 2\u001b[0m \u001b[43mc\u001b[49m\u001b[38;5;241;43m.\u001b[39;49m\u001b[38;5;21;43m__float__\u001b[39;49m\n",
      "\u001b[0;31mAttributeError\u001b[0m: 'complex' object has no attribute '__float__'"
     ]
    }
   ],
   "source": [
    "c = 3+4j\n",
    "c.__float__"
   ]
  },
  {
   "cell_type": "code",
   "execution_count": 13,
   "id": "8283f836-e881-45a9-840b-7c63a0c006d3",
   "metadata": {},
   "outputs": [
    {
     "ename": "AttributeError",
     "evalue": "'complex' object has no attribute '__float__'",
     "output_type": "error",
     "traceback": [
      "\u001b[0;31m---------------------------------------------------------------------------\u001b[0m",
      "\u001b[0;31mAttributeError\u001b[0m                            Traceback (most recent call last)",
      "Cell \u001b[0;32mIn[13], line 1\u001b[0m\n\u001b[0;32m----> 1\u001b[0m \u001b[43mc\u001b[49m\u001b[38;5;241;43m.\u001b[39;49m\u001b[38;5;21;43m__float__\u001b[39;49m()\n",
      "\u001b[0;31mAttributeError\u001b[0m: 'complex' object has no attribute '__float__'"
     ]
    }
   ],
   "source": [
    "c.__float__()"
   ]
  },
  {
   "cell_type": "code",
   "execution_count": 15,
   "id": "8ee052cc-4fde-498a-ba90-c146b90a0d57",
   "metadata": {},
   "outputs": [
    {
     "data": {
      "text/plain": [
       "False"
      ]
     },
     "execution_count": 15,
     "metadata": {},
     "output_type": "execute_result"
    }
   ],
   "source": [
    "from typing import SupportsFloat\n",
    "c = 3+4j\n",
    "isinstance(c, SupportsFloat)"
   ]
  },
  {
   "cell_type": "code",
   "execution_count": 16,
   "id": "6252c95d-4827-4509-88a3-beb7b911c9d6",
   "metadata": {},
   "outputs": [
    {
     "data": {
      "text/plain": [
       "False"
      ]
     },
     "execution_count": 16,
     "metadata": {},
     "output_type": "execute_result"
    }
   ],
   "source": [
    "issubclass(complex, SupportsFloat)"
   ]
  },
  {
   "cell_type": "markdown",
   "id": "00088b83-e31f-46aa-8665-5384e82b71c8",
   "metadata": {
    "jp-MarkdownHeadingCollapsed": true
   },
   "source": [
    "#### Пример 13.16. vector2d_v4.py: метод преобразования в complex и обратно"
   ]
  },
  {
   "cell_type": "code",
   "execution_count": 17,
   "id": "bb6ff548-2bf5-48b9-870f-411967d75b61",
   "metadata": {},
   "outputs": [],
   "source": [
    "def __complex__(self):\n",
    "    return complex(self.x, self.y)\n",
    "\n",
    "@classmethod\n",
    "def fromcomplex(cls, datum):\n",
    "    return cls(datum.real, datum.imag)  # <1>"
   ]
  },
  {
   "cell_type": "markdown",
   "id": "f9f33933-69ae-4d5f-a29a-0726cb2c47d3",
   "metadata": {
    "jp-MarkdownHeadingCollapsed": true
   },
   "source": [
    "#### Пример 13.17. vector2d_v5.py: добавление аннотаций в интересующие нас методы"
   ]
  },
  {
   "cell_type": "code",
   "execution_count": 19,
   "id": "f70a54a8-b28f-424d-a568-6834abbe2ede",
   "metadata": {},
   "outputs": [
    {
     "ename": "NameError",
     "evalue": "name 'Vector2d' is not defined",
     "output_type": "error",
     "traceback": [
      "\u001b[0;31m---------------------------------------------------------------------------\u001b[0m",
      "\u001b[0;31mNameError\u001b[0m                                 Traceback (most recent call last)",
      "Cell \u001b[0;32mIn[19], line 8\u001b[0m\n\u001b[1;32m      4\u001b[0m \u001b[38;5;28;01mdef\u001b[39;00m \u001b[38;5;21m__complex__\u001b[39m(\u001b[38;5;28mself\u001b[39m) \u001b[38;5;241m-\u001b[39m\u001b[38;5;241m>\u001b[39m \u001b[38;5;28mcomplex\u001b[39m:  \u001b[38;5;66;03m# <2>\u001b[39;00m\n\u001b[1;32m      5\u001b[0m     \u001b[38;5;28;01mreturn\u001b[39;00m \u001b[38;5;28mcomplex\u001b[39m(\u001b[38;5;28mself\u001b[39m\u001b[38;5;241m.\u001b[39mx, \u001b[38;5;28mself\u001b[39m\u001b[38;5;241m.\u001b[39my)\n\u001b[1;32m      7\u001b[0m \u001b[38;5;129m@classmethod\u001b[39m\n\u001b[0;32m----> 8\u001b[0m \u001b[38;5;28;01mdef\u001b[39;00m \u001b[38;5;21mfromcomplex\u001b[39m(\u001b[38;5;28mcls\u001b[39m, datum: SupportsComplex) \u001b[38;5;241m-\u001b[39m\u001b[38;5;241m>\u001b[39m \u001b[43mVector2d\u001b[49m:  \u001b[38;5;66;03m# <3>\u001b[39;00m\n\u001b[1;32m      9\u001b[0m     c \u001b[38;5;241m=\u001b[39m \u001b[38;5;28mcomplex\u001b[39m(datum)  \u001b[38;5;66;03m# <4>\u001b[39;00m\n\u001b[1;32m     10\u001b[0m     \u001b[38;5;28;01mreturn\u001b[39;00m \u001b[38;5;28mcls\u001b[39m(c\u001b[38;5;241m.\u001b[39mreal, c\u001b[38;5;241m.\u001b[39mimag)\n",
      "\u001b[0;31mNameError\u001b[0m: name 'Vector2d' is not defined"
     ]
    }
   ],
   "source": [
    "def __abs__(self) -> float:  # <1>\n",
    "    return math.hypot(self.x, self.y)\n",
    "\n",
    "def __complex__(self) -> complex:  # <2>\n",
    "    return complex(self.x, self.y)\n",
    "\n",
    "@classmethod\n",
    "def fromcomplex(cls, datum: SupportsComplex) -> Vector2d:  # <3>\n",
    "    c = complex(datum)  # <4>\n",
    "    return cls(c.real, c.imag)"
   ]
  },
  {
   "cell_type": "markdown",
   "id": "39ed7b1b-225c-47f8-bc3a-843abe040e87",
   "metadata": {
    "jp-MarkdownHeadingCollapsed": true
   },
   "source": [
    "#### Пример 13.18. randompick.py: определение RandomPicker"
   ]
  },
  {
   "cell_type": "code",
   "execution_count": 20,
   "id": "aa906bb8-3a87-46fd-813c-f69edc600f8a",
   "metadata": {},
   "outputs": [],
   "source": [
    "from typing import Protocol, runtime_checkable, Any\n",
    "\n",
    "@runtime_checkable\n",
    "class RandomPicker(Protocol):\n",
    "    def pick(self) -> Any: ..."
   ]
  },
  {
   "cell_type": "markdown",
   "id": "7d7f770a-105a-4af9-abd4-5090dc2c79e8",
   "metadata": {},
   "source": [
    "#### Пример 13.19. randompick_test.py: использование RandomPicker"
   ]
  },
  {
   "cell_type": "code",
   "execution_count": 22,
   "id": "ed132d93-40b9-4b0c-98a3-394fab3293c3",
   "metadata": {},
   "outputs": [],
   "source": [
    "import random\n",
    "from typing import Any, Iterable, TYPE_CHECKING\n",
    "\n",
    "class SimplePicker:  # <2>\n",
    "    def __init__(self, items: Iterable) -> None:\n",
    "        self._items = list(items)\n",
    "        random.shuffle(self._items)\n",
    "\n",
    "    def pick(self) -> Any:  # <3>\n",
    "        return self._items.pop()\n",
    "\n",
    "def test_isinstance() -> None:  # <4>\n",
    "    popper: RandomPicker = SimplePicker([1])  # <5>\n",
    "    assert isinstance(popper, RandomPicker)  # <6>\n",
    "\n",
    "def test_item_type() -> None:  # <7>\n",
    "    items = [1, 2]\n",
    "    popper = SimplePicker(items)\n",
    "    item = popper.pick()\n",
    "    assert item in items\n",
    "    if TYPE_CHECKING:\n",
    "        reveal_type(item)  # <8>\n",
    "    assert isinstance(item, int)"
   ]
  },
  {
   "cell_type": "code",
   "execution_count": null,
   "id": "e01f12c9-bd2e-46fc-b3b7-8c300588d6f2",
   "metadata": {},
   "outputs": [],
   "source": []
  }
 ],
 "metadata": {
  "kernelspec": {
   "display_name": "Python 3 (ipykernel)",
   "language": "python",
   "name": "python3"
  },
  "language_info": {
   "codemirror_mode": {
    "name": "ipython",
    "version": 3
   },
   "file_extension": ".py",
   "mimetype": "text/x-python",
   "name": "python",
   "nbconvert_exporter": "python",
   "pygments_lexer": "ipython3",
   "version": "3.10.12"
  }
 },
 "nbformat": 4,
 "nbformat_minor": 5
}
