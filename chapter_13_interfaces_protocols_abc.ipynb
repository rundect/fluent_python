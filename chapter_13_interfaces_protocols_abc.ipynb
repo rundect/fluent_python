{
 "cells": [
  {
   "cell_type": "markdown",
   "id": "404f7fbb-befb-4d42-81f6-1e63cf7896b4",
   "metadata": {},
   "source": [
    "#### Пример 13.1.Частичная реализация протокола последовательности – метода __getitem__"
   ]
  },
  {
   "cell_type": "code",
   "execution_count": 1,
   "id": "3d9d3cd4-2d2d-47c2-b698-c3e26f91b8c9",
   "metadata": {},
   "outputs": [
    {
     "data": {
      "text/plain": [
       "'A'"
      ]
     },
     "execution_count": 1,
     "metadata": {},
     "output_type": "execute_result"
    }
   ],
   "source": [
    "class Vowels:\n",
    "    def __getitem__(self, i):\n",
    "        return 'AEIOU'[i]\n",
    "\n",
    "v = Vowels()\n",
    "v[0]"
   ]
  },
  {
   "cell_type": "code",
   "execution_count": null,
   "id": "0652f6da-d8e7-4158-bd68-d729cb01656e",
   "metadata": {},
   "outputs": [],
   "source": []
  }
 ],
 "metadata": {
  "kernelspec": {
   "display_name": "Python 3 (ipykernel)",
   "language": "python",
   "name": "python3"
  },
  "language_info": {
   "codemirror_mode": {
    "name": "ipython",
    "version": 3
   },
   "file_extension": ".py",
   "mimetype": "text/x-python",
   "name": "python",
   "nbconvert_exporter": "python",
   "pygments_lexer": "ipython3",
   "version": "3.10.12"
  }
 },
 "nbformat": 4,
 "nbformat_minor": 5
}
