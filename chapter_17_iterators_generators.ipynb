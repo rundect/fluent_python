{
 "cells": [
  {
   "cell_type": "markdown",
   "id": "d9397d0b-e27f-49cb-8c52-b13c86331545",
   "metadata": {
    "jp-MarkdownHeadingCollapsed": true
   },
   "source": [
    "#### Пример 17.1. sentence.py: объект Sentence как последовательность слов"
   ]
  },
  {
   "cell_type": "code",
   "execution_count": 2,
   "id": "7d2d14af-4647-4085-8735-144c28c503c6",
   "metadata": {},
   "outputs": [],
   "source": [
    "import re\n",
    "import reprlib\n",
    "\n",
    "RE_WORD = re.compile(r'\\w+')\n",
    "\n",
    "class Sentence:\n",
    "    def __init__(self, text):\n",
    "        self.text = text\n",
    "        self.words = RE_WORD.findall(text)\n",
    "\n",
    "    def __getitem__(self, index):\n",
    "        return self.words[index]\n",
    "\n",
    "    def __len__(self):\n",
    "        return len(self.words)\n",
    "\n",
    "    def __repr__(self):\n",
    "        return f'Sentence{reprlib.repr(self.text)}'\n",
    "        "
   ]
  },
  {
   "cell_type": "markdown",
   "id": "98492fc5-44bf-4502-81a5-8e0fc34c86d5",
   "metadata": {
    "jp-MarkdownHeadingCollapsed": true
   },
   "source": [
    "#### Пример 17.2. Итерирование объекта Sentence"
   ]
  },
  {
   "cell_type": "code",
   "execution_count": 3,
   "id": "b722166f-623f-4d9a-8a12-60188c5013ea",
   "metadata": {},
   "outputs": [
    {
     "data": {
      "text/plain": [
       "Sentence'\"The time ha... Walrus said,'"
      ]
     },
     "execution_count": 3,
     "metadata": {},
     "output_type": "execute_result"
    }
   ],
   "source": [
    "s = Sentence('\"The time has come,\" the Walrus said,')\n",
    "s"
   ]
  },
  {
   "cell_type": "code",
   "execution_count": 4,
   "id": "81dac7bd-305d-430f-88b9-20bf3904f475",
   "metadata": {},
   "outputs": [
    {
     "name": "stdout",
     "output_type": "stream",
     "text": [
      "The\n",
      "time\n",
      "has\n",
      "come\n",
      "the\n",
      "Walrus\n",
      "said\n"
     ]
    }
   ],
   "source": [
    "for word in s:\n",
    "    print(word)"
   ]
  },
  {
   "cell_type": "code",
   "execution_count": 5,
   "id": "d1ada318-61b0-4eed-94e2-ba3a6d0189c0",
   "metadata": {},
   "outputs": [
    {
     "data": {
      "text/plain": [
       "['The', 'time', 'has', 'come', 'the', 'Walrus', 'said']"
      ]
     },
     "execution_count": 5,
     "metadata": {},
     "output_type": "execute_result"
    }
   ],
   "source": [
    "list(s)"
   ]
  },
  {
   "cell_type": "code",
   "execution_count": 6,
   "id": "a7ad30ae-ef2b-4c2b-9fc1-9d4343b3ac50",
   "metadata": {},
   "outputs": [
    {
     "data": {
      "text/plain": [
       "'The'"
      ]
     },
     "execution_count": 6,
     "metadata": {},
     "output_type": "execute_result"
    }
   ],
   "source": [
    "s[0]"
   ]
  },
  {
   "cell_type": "code",
   "execution_count": 7,
   "id": "6336f00b-de83-49e0-84b4-6214c926a4cd",
   "metadata": {},
   "outputs": [
    {
     "data": {
      "text/plain": [
       "'Walrus'"
      ]
     },
     "execution_count": 7,
     "metadata": {},
     "output_type": "execute_result"
    }
   ],
   "source": [
    "s[5]"
   ]
  },
  {
   "cell_type": "code",
   "execution_count": 8,
   "id": "32031822-72ac-4424-b03d-2a6105d79fb1",
   "metadata": {},
   "outputs": [
    {
     "data": {
      "text/plain": [
       "'said'"
      ]
     },
     "execution_count": 8,
     "metadata": {},
     "output_type": "execute_result"
    }
   ],
   "source": [
    "s[-1]"
   ]
  },
  {
   "cell_type": "markdown",
   "id": "71531ec4-d9e4-4545-85c9-6f5362c7fd66",
   "metadata": {
    "jp-MarkdownHeadingCollapsed": true
   },
   "source": [
    "#### Почему последовательности итерируемы: функция iter"
   ]
  },
  {
   "cell_type": "code",
   "execution_count": 12,
   "id": "9c6a4a9a-e51e-4c6d-913f-b9be86742740",
   "metadata": {},
   "outputs": [],
   "source": [
    "class Spam:\n",
    "    def __getitem__(self, i):\n",
    "        print('->', i)\n",
    "        raise IndexError()\n",
    "\n",
    "spam_can = Spam()"
   ]
  },
  {
   "cell_type": "code",
   "execution_count": 13,
   "id": "5855b174-1d45-41cc-947e-2235fdef8bc6",
   "metadata": {},
   "outputs": [
    {
     "data": {
      "text/plain": [
       "<iterator at 0x7f42800f7880>"
      ]
     },
     "execution_count": 13,
     "metadata": {},
     "output_type": "execute_result"
    }
   ],
   "source": [
    "iter(spam_can)"
   ]
  },
  {
   "cell_type": "code",
   "execution_count": 14,
   "id": "b5ca5a69-367c-441f-8eda-ffac6c799053",
   "metadata": {},
   "outputs": [
    {
     "name": "stdout",
     "output_type": "stream",
     "text": [
      "-> 0\n"
     ]
    },
    {
     "data": {
      "text/plain": [
       "[]"
      ]
     },
     "execution_count": 14,
     "metadata": {},
     "output_type": "execute_result"
    }
   ],
   "source": [
    "list(spam_can)"
   ]
  },
  {
   "cell_type": "code",
   "execution_count": 12,
   "id": "3414d890-08de-4509-a713-0a5441745432",
   "metadata": {},
   "outputs": [
    {
     "data": {
      "text/plain": [
       "False"
      ]
     },
     "execution_count": 12,
     "metadata": {},
     "output_type": "execute_result"
    }
   ],
   "source": [
    "from collections import abc\n",
    "isinstance(spam_can, abc.Iterable)"
   ]
  },
  {
   "cell_type": "code",
   "execution_count": 1,
   "id": "648ac198-a4c2-400b-878b-4fa96556a706",
   "metadata": {},
   "outputs": [
    {
     "data": {
      "text/plain": [
       "True"
      ]
     },
     "execution_count": 1,
     "metadata": {},
     "output_type": "execute_result"
    }
   ],
   "source": [
    "class GooseSpam:\n",
    "    def __iter__(self):\n",
    "        pass\n",
    "\n",
    "from collections import abc\n",
    "issubclass(GooseSpam, abc.Iterable)"
   ]
  },
  {
   "cell_type": "code",
   "execution_count": 2,
   "id": "d4f8c698-a106-461f-95f1-83210ccc87cb",
   "metadata": {},
   "outputs": [
    {
     "data": {
      "text/plain": [
       "True"
      ]
     },
     "execution_count": 2,
     "metadata": {},
     "output_type": "execute_result"
    }
   ],
   "source": [
    "goose_spam_can = GooseSpam()\n",
    "issubclass(GooseSpam, abc.Iterable)"
   ]
  },
  {
   "cell_type": "markdown",
   "id": "c54af9fb-8ce7-4f6f-a2df-534d85f4e5a3",
   "metadata": {
    "jp-MarkdownHeadingCollapsed": true
   },
   "source": [
    "#### Использование iter в сочетании с Callable"
   ]
  },
  {
   "cell_type": "code",
   "execution_count": 16,
   "id": "2c771676-cd6c-4a6b-bf6a-52f1d2ed0b62",
   "metadata": {},
   "outputs": [
    {
     "data": {
      "text/plain": [
       "<callable_iterator at 0x7f42800f7220>"
      ]
     },
     "execution_count": 16,
     "metadata": {},
     "output_type": "execute_result"
    }
   ],
   "source": [
    "from random import randint\n",
    "def d6():\n",
    "    return randint(1, 6)\n",
    "\n",
    "d6_iter = iter(d6, 1)\n",
    "d6_iter"
   ]
  },
  {
   "cell_type": "code",
   "execution_count": 17,
   "id": "1a8e68cd-9459-47e6-9e0e-2e1398d14c8e",
   "metadata": {},
   "outputs": [
    {
     "name": "stdout",
     "output_type": "stream",
     "text": [
      "3\n",
      "6\n",
      "3\n",
      "6\n",
      "3\n",
      "4\n",
      "4\n",
      "2\n",
      "4\n",
      "4\n",
      "2\n",
      "2\n"
     ]
    }
   ],
   "source": [
    "for roll in d6_iter:\n",
    "    print(roll)"
   ]
  },
  {
   "cell_type": "markdown",
   "id": "16ce4324-33ee-42c2-ab1a-f25f9d25e5c9",
   "metadata": {
    "jp-MarkdownHeadingCollapsed": true
   },
   "source": [
    "#### Итерируемые объекты и итераторы"
   ]
  },
  {
   "cell_type": "code",
   "execution_count": 18,
   "id": "0705abbc-066e-4d26-9795-f080478b635c",
   "metadata": {},
   "outputs": [
    {
     "name": "stdout",
     "output_type": "stream",
     "text": [
      "A\n",
      "B\n",
      "C\n"
     ]
    }
   ],
   "source": [
    "s = 'ABC'\n",
    "for char in s:\n",
    "    print(char)"
   ]
  },
  {
   "cell_type": "code",
   "execution_count": 19,
   "id": "cd1ce5d4-9e56-4236-86a5-32c27952c415",
   "metadata": {},
   "outputs": [
    {
     "name": "stdout",
     "output_type": "stream",
     "text": [
      "A\n",
      "B\n",
      "C\n"
     ]
    }
   ],
   "source": [
    "s = 'ABC'\n",
    "it = iter(s)\n",
    "while True:\n",
    "    try:\n",
    "        print(next(it))\n",
    "    except StopIteration:\n",
    "        del it\n",
    "        break"
   ]
  },
  {
   "cell_type": "markdown",
   "id": "9a5c0bc2-737f-4528-8a3c-61f9e2f93b89",
   "metadata": {
    "jp-MarkdownHeadingCollapsed": true
   },
   "source": [
    "#### Пример 17.3. Класс abc.Iterator; код взят из файла Lib/_collections_abc.py (https://github.com/python/cpython/blob/b1930bf75f276cd7ca08c4455298128d89adf7d1/Lib/_collections_abc.py#L271)"
   ]
  },
  {
   "cell_type": "code",
   "execution_count": 20,
   "id": "0c0d91ba-6cbf-4248-839c-ca5ec854053a",
   "metadata": {},
   "outputs": [
    {
     "ename": "NameError",
     "evalue": "name 'Iterable' is not defined",
     "output_type": "error",
     "traceback": [
      "\u001b[0;31m---------------------------------------------------------------------------\u001b[0m",
      "\u001b[0;31mNameError\u001b[0m                                 Traceback (most recent call last)",
      "Cell \u001b[0;32mIn[20], line 1\u001b[0m\n\u001b[0;32m----> 1\u001b[0m \u001b[38;5;28;01mclass\u001b[39;00m \u001b[38;5;21;01mIterator\u001b[39;00m(\u001b[43mIterable\u001b[49m):\n\u001b[1;32m      3\u001b[0m     \u001b[38;5;18m__slots__\u001b[39m \u001b[38;5;241m=\u001b[39m ()\n\u001b[1;32m      5\u001b[0m     \u001b[38;5;129m@abstractmethod\u001b[39m\n\u001b[1;32m      6\u001b[0m     \u001b[38;5;28;01mdef\u001b[39;00m \u001b[38;5;21m__next__\u001b[39m(\u001b[38;5;28mself\u001b[39m):\n",
      "\u001b[0;31mNameError\u001b[0m: name 'Iterable' is not defined"
     ]
    }
   ],
   "source": [
    "class Iterator(Iterable):\n",
    "\n",
    "    __slots__ = ()\n",
    "\n",
    "    @abstractmethod\n",
    "    def __next__(self):\n",
    "        'Return the next item from the iterator. When exhausted, raise StopIteration'\n",
    "        raise StopIteration\n",
    "\n",
    "    def __iter__(self):\n",
    "        return self\n",
    "\n",
    "    @classmethod\n",
    "    def __subclasshook__(cls, C):\n",
    "        if cls is Iterator:\n",
    "            return _check_methods(C, '__iter__', '__next__')\n",
    "        return NotImplemented"
   ]
  },
  {
   "cell_type": "code",
   "execution_count": 21,
   "id": "d4e1c51f-2375-4a64-912c-c33b2a0805cf",
   "metadata": {},
   "outputs": [
    {
     "data": {
      "text/plain": [
       "<iterator at 0x7f42800f5d20>"
      ]
     },
     "execution_count": 21,
     "metadata": {},
     "output_type": "execute_result"
    }
   ],
   "source": [
    "s3 = Sentence('Life of Brian')\n",
    "it = iter(s3)\n",
    "it"
   ]
  },
  {
   "cell_type": "code",
   "execution_count": 21,
   "id": "6dc34d9e-d312-4ccd-9bf8-8ba1c847ecf9",
   "metadata": {},
   "outputs": [
    {
     "data": {
      "text/plain": [
       "'Life'"
      ]
     },
     "execution_count": 21,
     "metadata": {},
     "output_type": "execute_result"
    }
   ],
   "source": [
    "next(it)"
   ]
  },
  {
   "cell_type": "code",
   "execution_count": 22,
   "id": "4dcb358f-4d16-4229-8bf2-c62c6dc4bf7f",
   "metadata": {},
   "outputs": [
    {
     "data": {
      "text/plain": [
       "'of'"
      ]
     },
     "execution_count": 22,
     "metadata": {},
     "output_type": "execute_result"
    }
   ],
   "source": [
    "next(it)"
   ]
  },
  {
   "cell_type": "code",
   "execution_count": 23,
   "id": "b4af660d-da13-4c03-9210-b44e1dea8662",
   "metadata": {},
   "outputs": [
    {
     "data": {
      "text/plain": [
       "'Brian'"
      ]
     },
     "execution_count": 23,
     "metadata": {},
     "output_type": "execute_result"
    }
   ],
   "source": [
    "next(it)"
   ]
  },
  {
   "cell_type": "code",
   "execution_count": 24,
   "id": "64424141-e354-4090-a957-f5a583cf320d",
   "metadata": {},
   "outputs": [
    {
     "ename": "StopIteration",
     "evalue": "",
     "output_type": "error",
     "traceback": [
      "\u001b[0;31m---------------------------------------------------------------------------\u001b[0m",
      "\u001b[0;31mStopIteration\u001b[0m                             Traceback (most recent call last)",
      "Cell \u001b[0;32mIn[24], line 1\u001b[0m\n\u001b[0;32m----> 1\u001b[0m \u001b[38;5;28;43mnext\u001b[39;49m\u001b[43m(\u001b[49m\u001b[43mit\u001b[49m\u001b[43m)\u001b[49m\n",
      "\u001b[0;31mStopIteration\u001b[0m: "
     ]
    }
   ],
   "source": [
    "next(it)"
   ]
  },
  {
   "cell_type": "code",
   "execution_count": 25,
   "id": "895be4fe-b19e-4c3f-b9cd-e237763bdc36",
   "metadata": {},
   "outputs": [
    {
     "data": {
      "text/plain": [
       "[]"
      ]
     },
     "execution_count": 25,
     "metadata": {},
     "output_type": "execute_result"
    }
   ],
   "source": [
    "list(it)"
   ]
  },
  {
   "cell_type": "code",
   "execution_count": 26,
   "id": "577a1435-a5d8-4484-8514-8f1f544114f7",
   "metadata": {},
   "outputs": [
    {
     "data": {
      "text/plain": [
       "['Life', 'of', 'Brian']"
      ]
     },
     "execution_count": 26,
     "metadata": {},
     "output_type": "execute_result"
    }
   ],
   "source": [
    "list(iter(s3))"
   ]
  },
  {
   "cell_type": "markdown",
   "id": "e82f50c2-5804-4938-a18a-78edd1709212",
   "metadata": {
    "jp-MarkdownHeadingCollapsed": true
   },
   "source": [
    "#### Пример  17.4. sentence_iter.py: класс Sentence, реализованный с помощью паттерна Итератор"
   ]
  },
  {
   "cell_type": "code",
   "execution_count": 30,
   "id": "16fd02cf-5be5-4928-8871-1e1a7ef99b33",
   "metadata": {},
   "outputs": [],
   "source": [
    "import re\n",
    "import reprlib\n",
    "\n",
    "RE_WORD = re.compile(r'\\w+')\n",
    "\n",
    "class Sentence:\n",
    "    def __init__(self, text):\n",
    "        self.text = text\n",
    "        self.words = RE_WORD.findall(text)\n",
    "\n",
    "    def __repr__(self):\n",
    "        return f'Sentence{reprlib.repr(self.text)}'\n",
    "\n",
    "    def __iter__(self):\n",
    "        return SentenceIterator(self.words)\n",
    "\n",
    "class SentenceIterator:\n",
    "    def __init__(self, words):\n",
    "        self.words = words\n",
    "        self.index = 0\n",
    "\n",
    "    def __next__(self):\n",
    "        try:\n",
    "            word = self.words[self.index]\n",
    "        except IndexError:\n",
    "            raise StopIteration()\n",
    "        self.index += 1\n",
    "        return word\n",
    "\n",
    "    def __iter__(self):\n",
    "        return self"
   ]
  },
  {
   "cell_type": "markdown",
   "id": "51b5d829-adba-4654-bff6-0f862172b264",
   "metadata": {
    "jp-MarkdownHeadingCollapsed": true
   },
   "source": [
    "#### Пример 17.5. sentence_gen.py: реализация класса Sentence с помощью генератора"
   ]
  },
  {
   "cell_type": "code",
   "execution_count": 31,
   "id": "efdb58e0-467f-4078-b940-af51f7391eb8",
   "metadata": {},
   "outputs": [],
   "source": [
    "import re\n",
    "import reprlib\n",
    "\n",
    "RE_WORD = re.compile(r'\\w+')\n",
    "\n",
    "class Sentence:\n",
    "    def __init__(self, text):\n",
    "        self.text = text\n",
    "        self.words = RE_WORD.findall(text)\n",
    "\n",
    "    def __repr__(self):\n",
    "        return f'Sentence{reprlib.repr(self.text)}'\n",
    "\n",
    "    def __iter__(self):\n",
    "        for word in self.words:\n",
    "            yield word"
   ]
  },
  {
   "cell_type": "markdown",
   "id": "6a41dedf-eac8-4d60-b143-faebc088a14c",
   "metadata": {
    "jp-MarkdownHeadingCollapsed": true
   },
   "source": [
    "#### Пример 17.6. Генераторная функция, отдающая три числа"
   ]
  },
  {
   "cell_type": "code",
   "execution_count": 22,
   "id": "c3e5e307-a051-4816-a9cc-d53d12ec8b91",
   "metadata": {},
   "outputs": [
    {
     "data": {
      "text/plain": [
       "<function __main__.gen_123()>"
      ]
     },
     "execution_count": 22,
     "metadata": {},
     "output_type": "execute_result"
    }
   ],
   "source": [
    "def gen_123():\n",
    "    yield 1\n",
    "    yield 2\n",
    "    yield 3\n",
    "\n",
    "gen_123 # doctest: +ELLIPSIS"
   ]
  },
  {
   "cell_type": "code",
   "execution_count": 23,
   "id": "f56ec1f2-7fb7-4c77-a907-06109959c335",
   "metadata": {},
   "outputs": [
    {
     "data": {
      "text/plain": [
       "<generator object gen_123 at 0x7f4269cf8cf0>"
      ]
     },
     "execution_count": 23,
     "metadata": {},
     "output_type": "execute_result"
    }
   ],
   "source": [
    "gen_123() # doctest: +ELLIPSIS"
   ]
  },
  {
   "cell_type": "code",
   "execution_count": 24,
   "id": "237a0f2f-1181-4ca2-9ac9-b031b1b0e61b",
   "metadata": {},
   "outputs": [
    {
     "name": "stdout",
     "output_type": "stream",
     "text": [
      "1\n",
      "2\n",
      "3\n"
     ]
    }
   ],
   "source": [
    "for i in gen_123():\n",
    "    print(i)"
   ]
  },
  {
   "cell_type": "code",
   "execution_count": 25,
   "id": "67a9f2e3-8a99-4684-95cb-0dcc6b3eca62",
   "metadata": {},
   "outputs": [
    {
     "data": {
      "text/plain": [
       "1"
      ]
     },
     "execution_count": 25,
     "metadata": {},
     "output_type": "execute_result"
    }
   ],
   "source": [
    "g = gen_123()\n",
    "next(g)"
   ]
  },
  {
   "cell_type": "code",
   "execution_count": 26,
   "id": "1b45e234-f61d-44df-9d87-6fa77ee8270d",
   "metadata": {},
   "outputs": [
    {
     "data": {
      "text/plain": [
       "2"
      ]
     },
     "execution_count": 26,
     "metadata": {},
     "output_type": "execute_result"
    }
   ],
   "source": [
    "next(g)"
   ]
  },
  {
   "cell_type": "code",
   "execution_count": 27,
   "id": "4251ca61-d54d-4ac9-8006-45d1474b230e",
   "metadata": {},
   "outputs": [
    {
     "data": {
      "text/plain": [
       "3"
      ]
     },
     "execution_count": 27,
     "metadata": {},
     "output_type": "execute_result"
    }
   ],
   "source": [
    "next(g)"
   ]
  },
  {
   "cell_type": "code",
   "execution_count": 28,
   "id": "1b9c055f-8be3-483e-8552-3040712f6f6d",
   "metadata": {},
   "outputs": [
    {
     "ename": "StopIteration",
     "evalue": "",
     "output_type": "error",
     "traceback": [
      "\u001b[0;31m---------------------------------------------------------------------------\u001b[0m",
      "\u001b[0;31mStopIteration\u001b[0m                             Traceback (most recent call last)",
      "Cell \u001b[0;32mIn[28], line 1\u001b[0m\n\u001b[0;32m----> 1\u001b[0m \u001b[38;5;28;43mnext\u001b[39;49m\u001b[43m(\u001b[49m\u001b[43mg\u001b[49m\u001b[43m)\u001b[49m\n",
      "\u001b[0;31mStopIteration\u001b[0m: "
     ]
    }
   ],
   "source": [
    "next(g)"
   ]
  },
  {
   "cell_type": "markdown",
   "id": "369f697a-b0e4-45cc-8fd2-acc3ea2fa046",
   "metadata": {
    "jp-MarkdownHeadingCollapsed": true
   },
   "source": [
    "#### Пример 17.7. Генераторная функция, печатающая сообщения во время выполнения"
   ]
  },
  {
   "cell_type": "code",
   "execution_count": 29,
   "id": "84e0c2c6-f77b-42eb-bf0a-66268411b817",
   "metadata": {},
   "outputs": [
    {
     "name": "stdout",
     "output_type": "stream",
     "text": [
      "start\n",
      "--> A\n",
      "continue\n",
      "--> B\n",
      "end\n"
     ]
    }
   ],
   "source": [
    "def gen_AB():\n",
    "    print('start')\n",
    "    yield 'A'\n",
    "    print('continue')\n",
    "    yield 'B'\n",
    "    print('end')\n",
    "\n",
    "for c in gen_AB():\n",
    "    print('-->', c)"
   ]
  },
  {
   "cell_type": "code",
   "execution_count": 2,
   "id": "17ad770d-b176-4aab-93fb-5d52d48788cf",
   "metadata": {},
   "outputs": [
    {
     "name": "stdout",
     "output_type": "stream",
     "text": [
      "start\n",
      "continue\n",
      "end\n"
     ]
    },
    {
     "ename": "TypeError",
     "evalue": "'NoneType' object is not iterable",
     "output_type": "error",
     "traceback": [
      "\u001b[0;31m---------------------------------------------------------------------------\u001b[0m",
      "\u001b[0;31mTypeError\u001b[0m                                 Traceback (most recent call last)",
      "Cell \u001b[0;32mIn[2], line 6\u001b[0m\n\u001b[1;32m      3\u001b[0m     \u001b[38;5;28mprint\u001b[39m(\u001b[38;5;124m'\u001b[39m\u001b[38;5;124mcontinue\u001b[39m\u001b[38;5;124m'\u001b[39m)\n\u001b[1;32m      4\u001b[0m     \u001b[38;5;28mprint\u001b[39m(\u001b[38;5;124m'\u001b[39m\u001b[38;5;124mend\u001b[39m\u001b[38;5;124m'\u001b[39m)\n\u001b[0;32m----> 6\u001b[0m \u001b[38;5;28;01mfor\u001b[39;00m c \u001b[38;5;129;01min\u001b[39;00m gen_AB():\n\u001b[1;32m      7\u001b[0m     \u001b[38;5;28mprint\u001b[39m(\u001b[38;5;124m'\u001b[39m\u001b[38;5;124m-->\u001b[39m\u001b[38;5;124m'\u001b[39m, c)\n",
      "\u001b[0;31mTypeError\u001b[0m: 'NoneType' object is not iterable"
     ]
    }
   ],
   "source": [
    "def gen_AB():\n",
    "    print('start')\n",
    "    print('continue')\n",
    "    print('end')\n",
    "\n",
    "for c in gen_AB():\n",
    "    print('-->', c)"
   ]
  },
  {
   "cell_type": "markdown",
   "id": "6c8c481f-76e5-457f-b032-062a78ca5f8e",
   "metadata": {
    "jp-MarkdownHeadingCollapsed": true
   },
   "source": [
    "#### Пример  17.8. sentence_gen2.py: реализация класса Sentence с помощью генераторной mфункции, которая вызывает генераторную функцию re.finditer"
   ]
  },
  {
   "cell_type": "code",
   "execution_count": 1,
   "id": "6052d91a-f344-4b2f-8aed-8dfb7ad2fca5",
   "metadata": {},
   "outputs": [],
   "source": [
    "import re\n",
    "import reprlib\n",
    "\n",
    "RE_WORD = re.compile(r'\\w+')\n",
    "\n",
    "\n",
    "class Sentence:\n",
    "\n",
    "    def __init__(self, text):\n",
    "        self.text = text  # <1>\n",
    "\n",
    "    def __repr__(self):\n",
    "        return f'Sentence({reprlib.repr(self.text)})'\n",
    "\n",
    "    def __iter__(self):\n",
    "        for match in RE_WORD.finditer(self.text):  # <2>\n",
    "            yield match.group()  # <3>"
   ]
  },
  {
   "cell_type": "markdown",
   "id": "f8df8751-d33c-412b-94c2-93653e7b8d3e",
   "metadata": {
    "jp-MarkdownHeadingCollapsed": true
   },
   "source": [
    "#### Пример 17.9. Генераторная функция gen_AB используется сначала в списковом включении, а затем в генераторном выражении"
   ]
  },
  {
   "cell_type": "code",
   "execution_count": 2,
   "id": "045dc2a8-6114-4d86-b9c5-287b0f9f3954",
   "metadata": {},
   "outputs": [],
   "source": [
    "def gen_AB():\n",
    "    print('start')\n",
    "    yield 'A'\n",
    "    print('continue')\n",
    "    yield 'B'\n",
    "    print('end.')"
   ]
  },
  {
   "cell_type": "code",
   "execution_count": 3,
   "id": "6585617c-0cd5-40bd-8227-08c82a45d68c",
   "metadata": {},
   "outputs": [
    {
     "name": "stdout",
     "output_type": "stream",
     "text": [
      "start\n",
      "continue\n",
      "end.\n"
     ]
    }
   ],
   "source": [
    "res1 = [x*3 for x in gen_AB()]"
   ]
  },
  {
   "cell_type": "code",
   "execution_count": 7,
   "id": "f6e0ae2b-12a1-4327-8d35-e7414042e6c7",
   "metadata": {},
   "outputs": [
    {
     "data": {
      "text/plain": [
       "['AAA', 'BBB']"
      ]
     },
     "execution_count": 7,
     "metadata": {},
     "output_type": "execute_result"
    }
   ],
   "source": [
    "res1"
   ]
  },
  {
   "cell_type": "code",
   "execution_count": 4,
   "id": "0c2d3c85-8cdf-46bd-8028-71f01bc6b978",
   "metadata": {},
   "outputs": [
    {
     "name": "stdout",
     "output_type": "stream",
     "text": [
      "--> AAA\n",
      "--> BBB\n"
     ]
    }
   ],
   "source": [
    "for i in res1:\n",
    "    print('-->', i)"
   ]
  },
  {
   "cell_type": "code",
   "execution_count": 5,
   "id": "6320c602-cdf3-4364-a26a-16cff6919589",
   "metadata": {},
   "outputs": [
    {
     "data": {
      "text/plain": [
       "<generator object <genexpr> at 0x7fb6d04d7e60>"
      ]
     },
     "execution_count": 5,
     "metadata": {},
     "output_type": "execute_result"
    }
   ],
   "source": [
    "res2 = (x*3 for x in gen_AB())\n",
    "res2"
   ]
  },
  {
   "cell_type": "code",
   "execution_count": 6,
   "id": "fb44ab2c-bcd3-4d94-9ced-45c050871155",
   "metadata": {},
   "outputs": [
    {
     "name": "stdout",
     "output_type": "stream",
     "text": [
      "start\n",
      "--> AAA\n",
      "continue\n",
      "--> BBB\n",
      "end.\n"
     ]
    }
   ],
   "source": [
    "for i in res2:\n",
    "    print('-->', i)"
   ]
  },
  {
   "cell_type": "markdown",
   "id": "a303014c-6e0c-4a70-9265-7bbb6a12b801",
   "metadata": {},
   "source": [
    "#### Пример 17.10. sentence_genexp.py: реализация класса Sentence с помощью генераторного выражения"
   ]
  },
  {
   "cell_type": "code",
   "execution_count": 9,
   "id": "a83b8c30-7f6b-40ab-b6ac-62b4a3c97007",
   "metadata": {},
   "outputs": [],
   "source": [
    "import re\n",
    "import reprlib\n",
    "\n",
    "RE_WORD = re.compile(r'\\w+')\n",
    "\n",
    "\n",
    "class Sentence:\n",
    "\n",
    "    def __init__(self, text):\n",
    "        self.text = text\n",
    "\n",
    "    def __repr__(self):\n",
    "        return f'Sentence({reprlib.repr(self.text)})'\n",
    "\n",
    "    def __iter__(self):\n",
    "        return (match.group() for match in RE_WORD.finditer(self.text))"
   ]
  },
  {
   "cell_type": "markdown",
   "id": "5a324a21-4cdc-4df4-926e-1b9d3fe02b02",
   "metadata": {},
   "source": [
    "#### Пример 17.12. Класс ArithmeticProgression"
   ]
  }
 ],
 "metadata": {
  "kernelspec": {
   "display_name": "Python 3 (ipykernel)",
   "language": "python",
   "name": "python3"
  },
  "language_info": {
   "codemirror_mode": {
    "name": "ipython",
    "version": 3
   },
   "file_extension": ".py",
   "mimetype": "text/x-python",
   "name": "python",
   "nbconvert_exporter": "python",
   "pygments_lexer": "ipython3",
   "version": "3.10.12"
  }
 },
 "nbformat": 4,
 "nbformat_minor": 5
}
