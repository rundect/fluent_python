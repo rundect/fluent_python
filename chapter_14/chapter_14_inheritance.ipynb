{
 "cells": [
  {
   "cell_type": "markdown",
   "id": "810232b6-7585-42c5-8cd7-d53ecc280aaf",
   "metadata": {
    "jp-MarkdownHeadingCollapsed": true
   },
   "source": [
    "#### Функция super()"
   ]
  },
  {
   "cell_type": "code",
   "execution_count": 2,
   "id": "12ee2b0b-0b20-4a65-bad1-c7dc7d34e7a4",
   "metadata": {},
   "outputs": [],
   "source": [
    "from collections import OrderedDict\n",
    "\n",
    "class LastUpdatedOrderedDict(OrderedDict):\n",
    "    \"\"\"Элементы хранятся в порядке, определяемом последним обновлением\"\"\"\n",
    "    def __setitem__(self, key, value):\n",
    "        super().__setitem__(key, value)\n",
    "        self.move_to_end(key)"
   ]
  },
  {
   "cell_type": "code",
   "execution_count": 3,
   "id": "df9576e8-7398-4b5c-aa17-308394ec974e",
   "metadata": {},
   "outputs": [],
   "source": [
    "class NotRecommended(OrderedDict):\n",
    "    \"\"\"Так поступать не рекомендуется!\"\"\"\n",
    "    def __setitem__(self, key, value):\n",
    "        OrderedDict.__setitem__(self, key, value)\n",
    "        self.move_to_end(key)"
   ]
  },
  {
   "cell_type": "code",
   "execution_count": 4,
   "id": "432082e0-b9fb-4842-9a0d-6a7ea42768f1",
   "metadata": {},
   "outputs": [],
   "source": [
    "class LastUpdatedOrderedDict(OrderedDict):\n",
    "    \"\"\"Этот код работает в Python 2 и в Python 3\"\"\"\n",
    "    def __setitem__(self, key, value):\n",
    "        super(LastUpdatedOrderedDict, self).__setitem__(key, value)\n",
    "        self.move_to_end(key)"
   ]
  },
  {
   "cell_type": "markdown",
   "id": "83fcb628-0758-4791-9ee5-c04593cfcef6",
   "metadata": {
    "jp-MarkdownHeadingCollapsed": true
   },
   "source": [
    "#### Пример 14.1. Наш метод __setitem__ игнорируется методами __init__ и __update__ встроенного типа dict"
   ]
  },
  {
   "cell_type": "code",
   "execution_count": 5,
   "id": "225442cf-294c-43b1-8c88-f7b6a96f48de",
   "metadata": {},
   "outputs": [
    {
     "data": {
      "text/plain": [
       "{'one': 1}"
      ]
     },
     "execution_count": 5,
     "metadata": {},
     "output_type": "execute_result"
    }
   ],
   "source": [
    "class DoppelDict(dict):\n",
    "    def __setitem__(self, key, value):\n",
    "        super().__setitem__(key, [value] * 2)\n",
    "\n",
    "dd = DoppelDict(one=1)\n",
    "dd"
   ]
  },
  {
   "cell_type": "code",
   "execution_count": 6,
   "id": "fa0cc5ac-c727-4a0e-9cc6-58a82a36a23f",
   "metadata": {},
   "outputs": [
    {
     "data": {
      "text/plain": [
       "{'one': 1, 'two': [2, 2]}"
      ]
     },
     "execution_count": 6,
     "metadata": {},
     "output_type": "execute_result"
    }
   ],
   "source": [
    "dd['two'] = 2\n",
    "dd"
   ]
  },
  {
   "cell_type": "code",
   "execution_count": 7,
   "id": "34e977f4-b3dc-48a3-b050-bcec59c53e5b",
   "metadata": {},
   "outputs": [
    {
     "data": {
      "text/plain": [
       "{'one': 1, 'two': [2, 2], 'three': 3}"
      ]
     },
     "execution_count": 7,
     "metadata": {},
     "output_type": "execute_result"
    }
   ],
   "source": [
    "dd.update(three=3)\n",
    "dd"
   ]
  },
  {
   "cell_type": "markdown",
   "id": "25d18892-c47b-4a14-b237-b5f91105800c",
   "metadata": {
    "jp-MarkdownHeadingCollapsed": true
   },
   "source": [
    "#### Пример 14.2. Метод __getitem__ из класса AnswerDict игнорируется методом dict.update"
   ]
  },
  {
   "cell_type": "code",
   "execution_count": 10,
   "id": "dececc59-a6f5-4bea-b5c0-0f06068a7df8",
   "metadata": {},
   "outputs": [
    {
     "data": {
      "text/plain": [
       "42"
      ]
     },
     "execution_count": 10,
     "metadata": {},
     "output_type": "execute_result"
    }
   ],
   "source": [
    "class AnswerDict:\n",
    "    def __init__(self, *args, **kwargs):\n",
    "        pass\n",
    "        \n",
    "    def __getitem__(self, key):\n",
    "        return 42\n",
    "\n",
    "ad = AnswerDict(a='foo')\n",
    "ad['a']"
   ]
  },
  {
   "cell_type": "code",
   "execution_count": 11,
   "id": "336b37a2-559e-494f-b7c7-9725e8e04acc",
   "metadata": {},
   "outputs": [
    {
     "ename": "TypeError",
     "evalue": "cannot convert dictionary update sequence element #0 to a sequence",
     "output_type": "error",
     "traceback": [
      "\u001b[0;31m---------------------------------------------------------------------------\u001b[0m",
      "\u001b[0;31mTypeError\u001b[0m                                 Traceback (most recent call last)",
      "Cell \u001b[0;32mIn[11], line 2\u001b[0m\n\u001b[1;32m      1\u001b[0m d \u001b[38;5;241m=\u001b[39m {}\n\u001b[0;32m----> 2\u001b[0m \u001b[43md\u001b[49m\u001b[38;5;241;43m.\u001b[39;49m\u001b[43mupdate\u001b[49m\u001b[43m(\u001b[49m\u001b[43mad\u001b[49m\u001b[43m)\u001b[49m\n\u001b[1;32m      3\u001b[0m d[\u001b[38;5;124m'\u001b[39m\u001b[38;5;124ma\u001b[39m\u001b[38;5;124m'\u001b[39m]\n",
      "\u001b[0;31mTypeError\u001b[0m: cannot convert dictionary update sequence element #0 to a sequence"
     ]
    }
   ],
   "source": [
    "d = {}\n",
    "d.update(ad)\n",
    "d['a']"
   ]
  },
  {
   "cell_type": "code",
   "execution_count": 12,
   "id": "27ddbe34-2769-4135-b37a-88bead0e7d35",
   "metadata": {},
   "outputs": [
    {
     "data": {
      "text/plain": [
       "{}"
      ]
     },
     "execution_count": 12,
     "metadata": {},
     "output_type": "execute_result"
    }
   ],
   "source": [
    "d"
   ]
  },
  {
   "cell_type": "markdown",
   "id": "bd592fc0-3492-479d-a42f-353f537c22f3",
   "metadata": {
    "jp-MarkdownHeadingCollapsed": true
   },
   "source": [
    "#### Пример 14.3. Классы DoppelDict2 и AnswerDict2 работают, как и ожидалось, потому что расширяют UserDict, а не dict"
   ]
  },
  {
   "cell_type": "code",
   "execution_count": 14,
   "id": "9a961aa8-d3c3-43c7-966a-4353aeb72a16",
   "metadata": {},
   "outputs": [
    {
     "data": {
      "text/plain": [
       "{'one': [1, 1]}"
      ]
     },
     "execution_count": 14,
     "metadata": {},
     "output_type": "execute_result"
    }
   ],
   "source": [
    "import collections\n",
    "\n",
    "class DoppelDict2(collections.UserDict):\n",
    "    def __setitem__(self, key, value):\n",
    "        super().__setitem__(key, [value] * 2)\n",
    "\n",
    "dd = DoppelDict2(one=1)\n",
    "dd"
   ]
  },
  {
   "cell_type": "code",
   "execution_count": 15,
   "id": "7855009f-227b-4e68-b428-26c872be7fe1",
   "metadata": {},
   "outputs": [
    {
     "data": {
      "text/plain": [
       "{'one': [1, 1], 'two': [2, 2]}"
      ]
     },
     "execution_count": 15,
     "metadata": {},
     "output_type": "execute_result"
    }
   ],
   "source": [
    "dd['two'] = 2\n",
    "dd"
   ]
  },
  {
   "cell_type": "code",
   "execution_count": 16,
   "id": "b0e1d9e1-b086-4dbe-ad90-60a121265d4b",
   "metadata": {},
   "outputs": [
    {
     "data": {
      "text/plain": [
       "{'one': [1, 1], 'two': [2, 2], 'three': [3, 3]}"
      ]
     },
     "execution_count": 16,
     "metadata": {},
     "output_type": "execute_result"
    }
   ],
   "source": [
    "dd.update(three=3)\n",
    "dd"
   ]
  },
  {
   "cell_type": "code",
   "execution_count": 17,
   "id": "031428a0-f36e-4bd1-85bf-e2d46373977e",
   "metadata": {},
   "outputs": [
    {
     "data": {
      "text/plain": [
       "42"
      ]
     },
     "execution_count": 17,
     "metadata": {},
     "output_type": "execute_result"
    }
   ],
   "source": [
    "class AnswerDict2(collections.UserDict):\n",
    "    def __getitem__(self, key):\n",
    "        return 42\n",
    "\n",
    "ad = AnswerDict2(a='foo')\n",
    "ad['a']"
   ]
  },
  {
   "cell_type": "code",
   "execution_count": 18,
   "id": "cf731a01-96bd-4c8d-9bb8-ca300cb49ffa",
   "metadata": {},
   "outputs": [
    {
     "data": {
      "text/plain": [
       "42"
      ]
     },
     "execution_count": 18,
     "metadata": {},
     "output_type": "execute_result"
    }
   ],
   "source": [
    "d = {}\n",
    "d.update(ad)\n",
    "d['a']"
   ]
  },
  {
   "cell_type": "code",
   "execution_count": 19,
   "id": "99dede89-80be-4149-9020-d20d7a8c52da",
   "metadata": {},
   "outputs": [
    {
     "data": {
      "text/plain": [
       "{'a': 42}"
      ]
     },
     "execution_count": 19,
     "metadata": {},
     "output_type": "execute_result"
    }
   ],
   "source": [
    "d"
   ]
  },
  {
   "cell_type": "markdown",
   "id": "a5d8645c-acfc-4a77-be2c-f96797c9dee2",
   "metadata": {
    "jp-MarkdownHeadingCollapsed": true
   },
   "source": [
    "#### Пример 14.4. diamond.py: классы Leaf, A, B, Root образуют граф, показанный на рис. 14.1"
   ]
  },
  {
   "cell_type": "code",
   "execution_count": 20,
   "id": "2e532377-8801-482c-b2c4-f26bbcfeeb2b",
   "metadata": {},
   "outputs": [],
   "source": [
    "class Root:  # <1>\n",
    "    def ping(self):\n",
    "        print(f'{self}.ping() in Root')\n",
    "\n",
    "    def pong(self):\n",
    "        print(f'{self}.pong() in Root')\n",
    "\n",
    "    def __repr__(self):\n",
    "        cls_name = type(self).__name__\n",
    "        return f'<instance of {cls_name}>'\n",
    "\n",
    "\n",
    "class A(Root):  # <2>\n",
    "    def ping(self):\n",
    "        print(f'{self}.ping() in A')\n",
    "        super().ping()\n",
    "\n",
    "    def pong(self):\n",
    "        print(f'{self}.pong() in A')\n",
    "        super().pong()\n",
    "\n",
    "\n",
    "class B(Root):  # <3>\n",
    "    def ping(self):\n",
    "        print(f'{self}.ping() in B')\n",
    "        super().ping()\n",
    "\n",
    "    def pong(self):\n",
    "        print(f'{self}.pong() in B')\n",
    "\n",
    "\n",
    "class Leaf(A, B):  # <4>\n",
    "    def ping(self):\n",
    "        print(f'{self}.ping() in Leaf')\n",
    "        super().ping()"
   ]
  },
  {
   "cell_type": "markdown",
   "id": "c5b59933-cfd9-4e8a-9ffb-8e16e9e595c0",
   "metadata": {
    "jp-MarkdownHeadingCollapsed": true
   },
   "source": [
    "#### Пример 14.5. Тесты вызова методов ping и pong объекта Leaf"
   ]
  },
  {
   "cell_type": "code",
   "execution_count": 21,
   "id": "fcc44de6-b28a-46e5-aa31-7f556f08e712",
   "metadata": {},
   "outputs": [
    {
     "name": "stdout",
     "output_type": "stream",
     "text": [
      "<instance of Leaf>.ping() in Leaf\n",
      "<instance of Leaf>.ping() in A\n",
      "<instance of Leaf>.ping() in B\n",
      "<instance of Leaf>.ping() in Root\n"
     ]
    }
   ],
   "source": [
    "leaf1 = Leaf()\n",
    "leaf1.ping()"
   ]
  },
  {
   "cell_type": "code",
   "execution_count": 22,
   "id": "0cf2f7d2-f10b-405b-9fef-07616a69a7bf",
   "metadata": {},
   "outputs": [
    {
     "name": "stdout",
     "output_type": "stream",
     "text": [
      "<instance of Leaf>.pong() in A\n",
      "<instance of Leaf>.pong() in B\n"
     ]
    }
   ],
   "source": [
    "leaf1.pong()"
   ]
  },
  {
   "cell_type": "code",
   "execution_count": 23,
   "id": "9bac0426-4b13-4c10-9d29-4568546cfb88",
   "metadata": {},
   "outputs": [
    {
     "data": {
      "text/plain": [
       "(__main__.Leaf, __main__.A, __main__.B, __main__.Root, object)"
      ]
     },
     "execution_count": 23,
     "metadata": {},
     "output_type": "execute_result"
    }
   ],
   "source": [
    "Leaf.__mro__ # doctest:+NORMALIZE_WHITESPACE"
   ]
  },
  {
   "cell_type": "markdown",
   "id": "a6819bd0-06e4-462f-97ce-db557c64aae0",
   "metadata": {
    "jp-MarkdownHeadingCollapsed": true
   },
   "source": [
    "#### Пример 14.6. diamond2.py: классы, демонстрирующие динамическую природу super()"
   ]
  },
  {
   "cell_type": "code",
   "execution_count": 24,
   "id": "17830803-75dd-4654-baf0-f5487f6698e8",
   "metadata": {},
   "outputs": [],
   "source": [
    "class U():  # <2>\n",
    "    def ping(self):\n",
    "        print(f'{self}.ping() in U')\n",
    "        super().ping()  # <3>\n",
    "\n",
    "class LeafUA(U, A):  # <4>\n",
    "    def ping(self):\n",
    "        print(f'{self}.ping() in LeafUA')\n",
    "        super().ping()\n",
    "# end::DIAMOND_CLASSES[]\n",
    "\n",
    "class LeafAU(A, U):\n",
    "    def ping(self):\n",
    "        print(f'{self}.ping() in LeafAU')\n",
    "        super().ping()"
   ]
  },
  {
   "cell_type": "code",
   "execution_count": 25,
   "id": "fbe182d7-4f98-401b-a304-b91f87be5eab",
   "metadata": {},
   "outputs": [
    {
     "name": "stdout",
     "output_type": "stream",
     "text": [
      "<__main__.U object at 0x7f5888110700>.ping() in U\n"
     ]
    },
    {
     "ename": "AttributeError",
     "evalue": "'super' object has no attribute 'ping'",
     "output_type": "error",
     "traceback": [
      "\u001b[0;31m---------------------------------------------------------------------------\u001b[0m",
      "\u001b[0;31mAttributeError\u001b[0m                            Traceback (most recent call last)",
      "Cell \u001b[0;32mIn[25], line 2\u001b[0m\n\u001b[1;32m      1\u001b[0m u \u001b[38;5;241m=\u001b[39m U()\n\u001b[0;32m----> 2\u001b[0m \u001b[43mu\u001b[49m\u001b[38;5;241;43m.\u001b[39;49m\u001b[43mping\u001b[49m\u001b[43m(\u001b[49m\u001b[43m)\u001b[49m\n",
      "Cell \u001b[0;32mIn[24], line 4\u001b[0m, in \u001b[0;36mU.ping\u001b[0;34m(self)\u001b[0m\n\u001b[1;32m      2\u001b[0m \u001b[38;5;28;01mdef\u001b[39;00m \u001b[38;5;21mping\u001b[39m(\u001b[38;5;28mself\u001b[39m):\n\u001b[1;32m      3\u001b[0m     \u001b[38;5;28mprint\u001b[39m(\u001b[38;5;124mf\u001b[39m\u001b[38;5;124m'\u001b[39m\u001b[38;5;132;01m{\u001b[39;00m\u001b[38;5;28mself\u001b[39m\u001b[38;5;132;01m}\u001b[39;00m\u001b[38;5;124m.ping() in U\u001b[39m\u001b[38;5;124m'\u001b[39m)\n\u001b[0;32m----> 4\u001b[0m     \u001b[38;5;28;43msuper\u001b[39;49m\u001b[43m(\u001b[49m\u001b[43m)\u001b[49m\u001b[38;5;241;43m.\u001b[39;49m\u001b[43mping\u001b[49m()\n",
      "\u001b[0;31mAttributeError\u001b[0m: 'super' object has no attribute 'ping'"
     ]
    }
   ],
   "source": [
    "u = U()\n",
    "u.ping()"
   ]
  },
  {
   "cell_type": "code",
   "execution_count": 26,
   "id": "befab77a-85bf-44d3-a800-8f5cd88f7b82",
   "metadata": {},
   "outputs": [
    {
     "name": "stdout",
     "output_type": "stream",
     "text": [
      "<instance of LeafUA>.ping() in LeafUA\n",
      "<instance of LeafUA>.ping() in U\n",
      "<instance of LeafUA>.ping() in A\n",
      "<instance of LeafUA>.ping() in Root\n"
     ]
    }
   ],
   "source": [
    "leaf2 = LeafUA()\n",
    "leaf2.ping()"
   ]
  },
  {
   "cell_type": "code",
   "execution_count": 27,
   "id": "9fe5c741-e82c-42ad-8c1e-f9ccd8a63d70",
   "metadata": {},
   "outputs": [
    {
     "data": {
      "text/plain": [
       "(__main__.LeafUA, __main__.U, __main__.A, __main__.Root, object)"
      ]
     },
     "execution_count": 27,
     "metadata": {},
     "output_type": "execute_result"
    }
   ],
   "source": [
    "LeafUA.__mro__ # doctest:+NORMALIZE_WHITESPACE"
   ]
  },
  {
   "cell_type": "markdown",
   "id": "c234cc76-328d-4acc-b650-259c7b81de83",
   "metadata": {
    "jp-MarkdownHeadingCollapsed": true
   },
   "source": [
    "#### Пример 14.7. MRO класса tkinter.Text"
   ]
  },
  {
   "cell_type": "code",
   "execution_count": 28,
   "id": "0b889ff4-9edc-4050-bb65-ed0a039e40d5",
   "metadata": {},
   "outputs": [
    {
     "ename": "ModuleNotFoundError",
     "evalue": "No module named 'tkinter'",
     "output_type": "error",
     "traceback": [
      "\u001b[0;31m---------------------------------------------------------------------------\u001b[0m",
      "\u001b[0;31mModuleNotFoundError\u001b[0m                       Traceback (most recent call last)",
      "Cell \u001b[0;32mIn[28], line 5\u001b[0m\n\u001b[1;32m      1\u001b[0m \u001b[38;5;28;01mdef\u001b[39;00m \u001b[38;5;21mprint_mro\u001b[39m(\u001b[38;5;28mcls\u001b[39m):\n\u001b[1;32m      2\u001b[0m     \u001b[38;5;28mprint\u001b[39m(\u001b[38;5;124m'\u001b[39m\u001b[38;5;124m, \u001b[39m\u001b[38;5;124m'\u001b[39m\u001b[38;5;241m.\u001b[39mjoin(c\u001b[38;5;241m.\u001b[39m\u001b[38;5;18m__name__\u001b[39m \u001b[38;5;28;01mfor\u001b[39;00m c \u001b[38;5;129;01min\u001b[39;00m \u001b[38;5;28mcls\u001b[39m\u001b[38;5;241m.\u001b[39m\u001b[38;5;18m__mro__\u001b[39m))\n\u001b[0;32m----> 5\u001b[0m \u001b[38;5;28;01mimport\u001b[39;00m \u001b[38;5;21;01mtkinter\u001b[39;00m\n\u001b[1;32m      6\u001b[0m print_mro(tkinter\u001b[38;5;241m.\u001b[39mText)\n",
      "\u001b[0;31mModuleNotFoundError\u001b[0m: No module named 'tkinter'"
     ]
    }
   ],
   "source": [
    "def print_mro(cls):\n",
    "    print(', '.join(c.__name__ for c in cls.__mro__))\n",
    "\n",
    "\n",
    "import tkinter\n",
    "print_mro(tkinter.Text)"
   ]
  },
  {
   "cell_type": "markdown",
   "id": "ac416c99-ab73-48d5-9689-89593b04d9b1",
   "metadata": {
    "jp-MarkdownHeadingCollapsed": true
   },
   "source": [
    "#### Пример 14.8. uppermixin.py: UpperCaseMixin поддерживает отображения, не зависящие от регистра"
   ]
  },
  {
   "cell_type": "code",
   "execution_count": 29,
   "id": "7681de03-2f15-48fe-8d52-7179ac161a1e",
   "metadata": {},
   "outputs": [],
   "source": [
    "import collections\n",
    "\n",
    "def _upper(key):  # <1>\n",
    "    try:\n",
    "        return key.upper()\n",
    "    except AttributeError:\n",
    "        return key\n",
    "\n",
    "class UpperCaseMixin:  # <2>\n",
    "    def __setitem__(self, key, item):\n",
    "        super().__setitem__(_upper(key), item)\n",
    "\n",
    "    def __getitem__(self, key):\n",
    "        return super().__getitem__(_upper(key))\n",
    "\n",
    "    def get(self, key, default=None):\n",
    "        return super().get(_upper(key), default)\n",
    "\n",
    "    def __contains__(self, key):\n",
    "        return super().__contains__(_upper(key))"
   ]
  },
  {
   "cell_type": "markdown",
   "id": "2092c639-51ec-4ce3-8593-7a66d3fa83e3",
   "metadata": {
    "jp-MarkdownHeadingCollapsed": true
   },
   "source": [
    "#### Пример 14.9. uppermixin.py: два класса, использующих UpperCaseMixin"
   ]
  },
  {
   "cell_type": "code",
   "execution_count": 30,
   "id": "81553f29-c417-486e-b7c0-519dccf1f232",
   "metadata": {},
   "outputs": [],
   "source": [
    "class UpperDict(UpperCaseMixin, collections.UserDict):  # <1>\n",
    "    pass\n",
    "\n",
    "class UpperCounter(UpperCaseMixin, collections.Counter):  # <2>\n",
    "    \"\"\"Specialized 'Counter' that uppercases string keys\"\"\"  # <3>"
   ]
  },
  {
   "cell_type": "code",
   "execution_count": 31,
   "id": "308ad067-e754-4bde-bf74-77b83ec29a3e",
   "metadata": {},
   "outputs": [
    {
     "data": {
      "text/plain": [
       "['A', 2]"
      ]
     },
     "execution_count": 31,
     "metadata": {},
     "output_type": "execute_result"
    }
   ],
   "source": [
    "d = UpperDict([('a', 'letter A'), (2, 'digit two')])\n",
    "list(d.keys())"
   ]
  },
  {
   "cell_type": "code",
   "execution_count": 32,
   "id": "cdcca1f7-7974-4854-9fb8-f9c85397cc78",
   "metadata": {},
   "outputs": [
    {
     "data": {
      "text/plain": [
       "True"
      ]
     },
     "execution_count": 32,
     "metadata": {},
     "output_type": "execute_result"
    }
   ],
   "source": [
    "d['b'] = 'letter B'\n",
    "'b' in d"
   ]
  },
  {
   "cell_type": "code",
   "execution_count": 33,
   "id": "398dff10-346c-47b7-ab25-89e14a91ecad",
   "metadata": {},
   "outputs": [
    {
     "data": {
      "text/plain": [
       "('letter A', 'letter B')"
      ]
     },
     "execution_count": 33,
     "metadata": {},
     "output_type": "execute_result"
    }
   ],
   "source": [
    "d['a'], d.get('B')"
   ]
  },
  {
   "cell_type": "code",
   "execution_count": 34,
   "id": "272e4038-2747-4b08-af17-4f21b6057a6f",
   "metadata": {},
   "outputs": [
    {
     "data": {
      "text/plain": [
       "['A', 2, 'B']"
      ]
     },
     "execution_count": 34,
     "metadata": {},
     "output_type": "execute_result"
    }
   ],
   "source": [
    "list(d.keys())"
   ]
  },
  {
   "cell_type": "code",
   "execution_count": 35,
   "id": "7e9ae742-81fb-43b8-bb5d-1ee4d9403077",
   "metadata": {},
   "outputs": [
    {
     "data": {
      "text/plain": [
       "[('A', 3), ('N', 2), ('B', 1)]"
      ]
     },
     "execution_count": 35,
     "metadata": {},
     "output_type": "execute_result"
    }
   ],
   "source": [
    "c = UpperCounter('BaNanA')\n",
    "c.most_common()"
   ]
  },
  {
   "cell_type": "markdown",
   "id": "74e3ba73-061c-45a0-a204-621c81a1adcb",
   "metadata": {
    "jp-MarkdownHeadingCollapsed": true
   },
   "source": [
    "#### Пример 14.10. Часть Lib/socketserver.py в Python 3.10"
   ]
  },
  {
   "cell_type": "code",
   "execution_count": null,
   "id": "5e1bc874-384d-4089-aee9-dc2e47b08ad8",
   "metadata": {},
   "outputs": [],
   "source": [
    "class ThreadingMixIn:\n",
    "    \"\"\"Mix-in class to handle each request in a new thread.\"\"\"\n",
    "\n",
    "    # Decides how threads will act upon termination of the\n",
    "    # main process\n",
    "    daemon_threads = False\n",
    "    # If true, server_close() waits until all non-daemonic threads terminate.\n",
    "    block_on_close = True\n",
    "    # Threads object\n",
    "    # used by server_close() to wait for all threads completion.\n",
    "    _threads = _NoThreads()\n",
    "\n",
    "    def process_request_thread(self, request, client_address):\n",
    "        \"\"\"Same as in BaseServer but as a thread.\n",
    "\n",
    "        In addition, exception handling is done here.\n",
    "\n",
    "        \"\"\"\n",
    "        try:\n",
    "            self.finish_request(request, client_address)\n",
    "        except Exception:\n",
    "            self.handle_error(request, client_address)\n",
    "        finally:\n",
    "            self.shutdown_request(request)\n",
    "\n",
    "    def process_request(self, request, client_address):\n",
    "        \"\"\"Start a new thread to process the request.\"\"\"\n",
    "        if self.block_on_close:\n",
    "            vars(self).setdefault('_threads', _Threads())\n",
    "        t = threading.Thread(target = self.process_request_thread,\n",
    "                             args = (request, client_address))\n",
    "        t.daemon = self.daemon_threads\n",
    "        self._threads.append(t)\n",
    "        t.start()\n",
    "\n",
    "    def server_close(self):\n",
    "        super().server_close()\n",
    "        self._threads.join()"
   ]
  }
 ],
 "metadata": {
  "kernelspec": {
   "display_name": "Python 3 (ipykernel)",
   "language": "python",
   "name": "python3"
  },
  "language_info": {
   "codemirror_mode": {
    "name": "ipython",
    "version": 3
   },
   "file_extension": ".py",
   "mimetype": "text/x-python",
   "name": "python",
   "nbconvert_exporter": "python",
   "pygments_lexer": "ipython3",
   "version": "3.10.12"
  }
 },
 "nbformat": 4,
 "nbformat_minor": 5
}
