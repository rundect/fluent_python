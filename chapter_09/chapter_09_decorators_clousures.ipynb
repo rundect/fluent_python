{
 "cells": [
  {
   "cell_type": "markdown",
   "id": "8fcb40ea-a575-4ba8-a07b-ed302213b190",
   "metadata": {},
   "source": [
    "#### Краткое введение в декораторы\n",
    "Декораторы функций дают возможность «помечать» функции в исходном коде, тем или иным способом дополняя их поведение.\n",
    "Декоратор – это вызываемый объект, который принимает другую функцию в качестве аргумента (декорируемую функцию). Декоратор может производить какието операции с функцией и возвращает либо ее саму, либо другую заменяющую ее функцию или вызываемый объект"
   ]
  },
  {
   "cell_type": "markdown",
   "id": "665b05b1-bb8c-460f-aa94-a7833041fec8",
   "metadata": {},
   "source": [
    "#### Пример 7.1. \n",
    "Декоратор обычно заменяет одну функцию другой"
   ]
  },
  {
   "cell_type": "code",
   "execution_count": 4,
   "id": "8587e4c3-0639-4066-9981-b04eac0d2b69",
   "metadata": {},
   "outputs": [
    {
     "name": "stdout",
     "output_type": "stream",
     "text": [
      "running inner()\n"
     ]
    }
   ],
   "source": [
    "def deco(func):\n",
    "    def inner():\n",
    "        print('running inner()')\n",
    "    return inner\n",
    "\n",
    "# Иначе говоря, в предположении, что декоратор с именем deco,следующий код:\n",
    "@deco\n",
    "def target():\n",
    "    print('running target()')\n",
    "\n",
    "target()"
   ]
  },
  {
   "cell_type": "code",
   "execution_count": 5,
   "id": "867c0d6d-11a5-4a61-9e89-df8a05a71c6d",
   "metadata": {},
   "outputs": [
    {
     "data": {
      "text/plain": [
       "<function __main__.deco.<locals>.inner()>"
      ]
     },
     "execution_count": 5,
     "metadata": {},
     "output_type": "execute_result"
    }
   ],
   "source": [
    "target"
   ]
  },
  {
   "cell_type": "markdown",
   "id": "036f506a-49e3-4c51-93a0-6c9f97a9350b",
   "metadata": {},
   "source": [
    "эквивалентен такому:"
   ]
  },
  {
   "cell_type": "code",
   "execution_count": 6,
   "id": "c7674416-1562-4767-9479-54e92fe6cd54",
   "metadata": {},
   "outputs": [
    {
     "name": "stdout",
     "output_type": "stream",
     "text": [
      "running target()\n"
     ]
    },
    {
     "ename": "UnboundLocalError",
     "evalue": "local variable 'target' referenced before assignment",
     "output_type": "error",
     "traceback": [
      "\u001b[0;31m---------------------------------------------------------------------------\u001b[0m",
      "\u001b[0;31mUnboundLocalError\u001b[0m                         Traceback (most recent call last)",
      "Cell \u001b[0;32mIn[6], line 5\u001b[0m\n\u001b[1;32m      2\u001b[0m     \u001b[38;5;28mprint\u001b[39m(\u001b[38;5;124m'\u001b[39m\u001b[38;5;124mrunning target()\u001b[39m\u001b[38;5;124m'\u001b[39m)\n\u001b[1;32m      3\u001b[0m     target \u001b[38;5;241m=\u001b[39m deco(target)\n\u001b[0;32m----> 5\u001b[0m \u001b[43mtarget\u001b[49m\u001b[43m(\u001b[49m\u001b[43m)\u001b[49m\n",
      "Cell \u001b[0;32mIn[6], line 3\u001b[0m, in \u001b[0;36mtarget\u001b[0;34m()\u001b[0m\n\u001b[1;32m      1\u001b[0m \u001b[38;5;28;01mdef\u001b[39;00m \u001b[38;5;21mtarget\u001b[39m():\n\u001b[1;32m      2\u001b[0m     \u001b[38;5;28mprint\u001b[39m(\u001b[38;5;124m'\u001b[39m\u001b[38;5;124mrunning target()\u001b[39m\u001b[38;5;124m'\u001b[39m)\n\u001b[0;32m----> 3\u001b[0m     target \u001b[38;5;241m=\u001b[39m deco(\u001b[43mtarget\u001b[49m)\n",
      "\u001b[0;31mUnboundLocalError\u001b[0m: local variable 'target' referenced before assignment"
     ]
    }
   ],
   "source": [
    "def target():\n",
    "    print('running target()')\n",
    "    target = deco(target)\n",
    "\n",
    "target()"
   ]
  },
  {
   "cell_type": "markdown",
   "id": "3aacff28-d5ea-4c45-99b0-916c691e797a",
   "metadata": {},
   "source": [
    "Конечный результат одинаков: в конце обоих фрагментов имя target необязательно ссылается на исходную функцию target, это может быть любая другая функция, возвращенная в результате вызова deco(target)."
   ]
  },
  {
   "cell_type": "markdown",
   "id": "8eb046da-cda4-4b74-9f71-671c0d7ed051",
   "metadata": {},
   "source": [
    "#### Когда Python выполняет декораторы"
   ]
  },
  {
   "cell_type": "markdown",
   "id": "e53deca6-929d-487b-91bc-eae011bd6cb1",
   "metadata": {},
   "source": [
    "Главное свойство декораторов – то, что они выполняются сразу после определения декорируемой функции. Обычно на этапе импорта (т. е. когда Python загружает модуль)."
   ]
  },
  {
   "cell_type": "markdown",
   "id": "43de3ea9-1757-4554-b725-905ef6b5a139",
   "metadata": {},
   "source": [
    "#### Пример 7.2. \n",
    "Модуль registration.py"
   ]
  },
  {
   "cell_type": "code",
   "execution_count": null,
   "id": "6ed69395-10c9-48aa-9d53-0a3a69740e74",
   "metadata": {},
   "outputs": [
    {
     "name": "stdout",
     "output_type": "stream",
     "text": [
      "running register(<function f1 at 0x7f71ec1d1000>)\n",
      "running register(<function f2 at 0x7f71ec1d0670>)\n",
      "running main()\n",
      "registry -> [<function f1 at 0x7f71ec1d1000>, <function f2 at 0x7f71ec1d0670>]\n",
      "running f1()\n",
      "running f2()\n",
      "running f3()\n"
     ]
    }
   ],
   "source": [
    "registry = []\n",
    "\n",
    "def register(func):\n",
    "    print('running register(%s)' % func)\n",
    "    registry.append(func)\n",
    "    return func\n",
    "\n",
    "@register\n",
    "def f1():\n",
    "    print('running f1()')\n",
    "\n",
    "@register\n",
    "def f2():\n",
    "    print('running f2()')\n",
    "\n",
    "def f3():\n",
    "    print('running f3()')\n",
    "\n",
    "def main():\n",
    "    print('running main()')\n",
    "    print('registry ->', registry)\n",
    "    f1()\n",
    "    f2()\n",
    "    f3()\n",
    "\n",
    "if __name__ == '__main__':\n",
    "    main()"
   ]
  },
  {
   "cell_type": "markdown",
   "id": "a381e016-cd84-4113-b834-7ed5462d8337",
   "metadata": {},
   "source": [
    "Основная цель примера 7.2 – подчеркнуть, что декораторы функций выполняются сразу после импорта модуля, но сами декорируемые функции – только в результате явного вызова. В этом проявляется различие между этапом импорта и этапом выполнения в Python."
   ]
  },
  {
   "cell_type": "markdown",
   "id": "2bf03c88-78ca-4106-86ab-77c2b482fcd5",
   "metadata": {},
   "source": [
    "#### Паттерн Стратегия, дополненный декоратором"
   ]
  },
  {
   "cell_type": "markdown",
   "id": "3e762db9-be84-44ca-bcfb-43529f421f14",
   "metadata": {},
   "source": [
    "#### Пример 7.3. \n",
    "Список promos заполняется декоратором promotion"
   ]
  },
  {
   "cell_type": "code",
   "execution_count": null,
   "id": "cc917caf-8872-4dde-a7b1-57e9b9e8412f",
   "metadata": {},
   "outputs": [],
   "source": [
    "promos = []\n",
    "\n",
    "def promotion(promo_func):\n",
    "    promos.append(promo_func)\n",
    "    return promo_func\n",
    "\n",
    "\n",
    "@promotion\n",
    "def fidelity_promo(order):\n",
    "        \"\"\"5 procents for customers with at least 1000 loyalty points\"\"\"\n",
    "        return order.total() * .05 if order.customer.fidelity >= 1000 else 0\n",
    "\n",
    "\n",
    "@promotion\n",
    "def bulk_item_promo(order):\n",
    "        \"\"\"10% discount for each LineItem with a minimum order of 20 units\"\"\"\n",
    "        discount = 0\n",
    "        for item in order.cart:\n",
    "            if item.quantity >= 20:\n",
    "                discount += item.total() * .1\n",
    "        return discount\n",
    "\n",
    "\n",
    "@promotion\n",
    "def large_order_promo(order):\n",
    "        \"\"\"7% discount for orders including at least 10 different items\"\"\"\n",
    "        distinct_items = {item.product for item in order.cart}\n",
    "        if len(distinct_items) >= 10:\n",
    "            return order.total() * .07\n",
    "        return 0\n",
    "\n",
    "\n",
    "def best_promo(order):\n",
    "    \"\"\"Choose max possible discount\"\"\"\n",
    "    return max(promo(order) for promo in promos)"
   ]
  },
  {
   "cell_type": "markdown",
   "id": "e7d53ae4-9f0d-4428-a5e6-1a8878762f9b",
   "metadata": {},
   "source": [
    "#### Правила видимости переменных"
   ]
  },
  {
   "cell_type": "markdown",
   "id": "8c536965-d9b6-42c3-baac-4a2340458dee",
   "metadata": {},
   "source": [
    "#### Пример 7.4. \n",
    "Функция, читающая локальную и глобальную переменную"
   ]
  },
  {
   "cell_type": "code",
   "execution_count": null,
   "id": "b4c90d24-3c72-4fad-b546-086841550406",
   "metadata": {},
   "outputs": [
    {
     "name": "stdout",
     "output_type": "stream",
     "text": [
      "3\n"
     ]
    },
    {
     "ename": "NameError",
     "evalue": "name 'b' is not defined",
     "output_type": "error",
     "traceback": [
      "\u001b[0;31m---------------------------------------------------------------------------\u001b[0m",
      "\u001b[0;31mNameError\u001b[0m                                 Traceback (most recent call last)",
      "Cell \u001b[0;32mIn[2], line 5\u001b[0m\n\u001b[1;32m      2\u001b[0m     \u001b[38;5;28mprint\u001b[39m(a)\n\u001b[1;32m      3\u001b[0m     \u001b[38;5;28mprint\u001b[39m(b)\n\u001b[0;32m----> 5\u001b[0m \u001b[43mf1\u001b[49m\u001b[43m(\u001b[49m\u001b[38;5;241;43m3\u001b[39;49m\u001b[43m)\u001b[49m\n",
      "Cell \u001b[0;32mIn[2], line 3\u001b[0m, in \u001b[0;36mf1\u001b[0;34m(a)\u001b[0m\n\u001b[1;32m      1\u001b[0m \u001b[38;5;28;01mdef\u001b[39;00m \u001b[38;5;21mf1\u001b[39m(a):\n\u001b[1;32m      2\u001b[0m     \u001b[38;5;28mprint\u001b[39m(a)\n\u001b[0;32m----> 3\u001b[0m     \u001b[38;5;28mprint\u001b[39m(\u001b[43mb\u001b[49m)\n",
      "\u001b[0;31mNameError\u001b[0m: name 'b' is not defined"
     ]
    }
   ],
   "source": [
    "def f1(a):\n",
    "    print(a)\n",
    "    print(b)\n",
    "\n",
    "f1(3)"
   ]
  },
  {
   "cell_type": "code",
   "execution_count": null,
   "id": "853bca22-5d12-44da-96ff-7e6f3a61b650",
   "metadata": {},
   "outputs": [
    {
     "name": "stdout",
     "output_type": "stream",
     "text": [
      "3\n",
      "6\n"
     ]
    }
   ],
   "source": [
    "b = 6\n",
    "f1(3)"
   ]
  },
  {
   "cell_type": "markdown",
   "id": "2df732ad-8f82-4136-8ec3-3ae27fef115f",
   "metadata": {},
   "source": [
    "#### Пример 7.5. \n",
    "Переменная b локальна, потому что ей присваивается значение в теле функции"
   ]
  },
  {
   "cell_type": "code",
   "execution_count": null,
   "id": "fb12394f-3656-479f-b2ca-a7cad49fd60b",
   "metadata": {},
   "outputs": [
    {
     "name": "stdout",
     "output_type": "stream",
     "text": [
      "3\n"
     ]
    },
    {
     "ename": "UnboundLocalError",
     "evalue": "local variable 'b' referenced before assignment",
     "output_type": "error",
     "traceback": [
      "\u001b[0;31m---------------------------------------------------------------------------\u001b[0m",
      "\u001b[0;31mUnboundLocalError\u001b[0m                         Traceback (most recent call last)",
      "Cell \u001b[0;32mIn[5], line 7\u001b[0m\n\u001b[1;32m      4\u001b[0m     \u001b[38;5;28mprint\u001b[39m(b)\n\u001b[1;32m      5\u001b[0m     b \u001b[38;5;241m=\u001b[39m \u001b[38;5;241m9\u001b[39m\n\u001b[0;32m----> 7\u001b[0m \u001b[43mf2\u001b[49m\u001b[43m(\u001b[49m\u001b[38;5;241;43m3\u001b[39;49m\u001b[43m)\u001b[49m\n",
      "Cell \u001b[0;32mIn[5], line 4\u001b[0m, in \u001b[0;36mf2\u001b[0;34m(a)\u001b[0m\n\u001b[1;32m      2\u001b[0m \u001b[38;5;28;01mdef\u001b[39;00m \u001b[38;5;21mf2\u001b[39m(a):\n\u001b[1;32m      3\u001b[0m     \u001b[38;5;28mprint\u001b[39m(a)\n\u001b[0;32m----> 4\u001b[0m     \u001b[38;5;28mprint\u001b[39m(\u001b[43mb\u001b[49m)\n\u001b[1;32m      5\u001b[0m     b \u001b[38;5;241m=\u001b[39m \u001b[38;5;241m9\u001b[39m\n",
      "\u001b[0;31mUnboundLocalError\u001b[0m: local variable 'b' referenced before assignment"
     ]
    }
   ],
   "source": [
    "b = 6\n",
    "def f2(a):\n",
    "    print(a)\n",
    "    print(b)\n",
    "    b = 9\n",
    "\n",
    "f2(3)"
   ]
  },
  {
   "cell_type": "markdown",
   "id": "0fee398b-4290-402a-ae76-83db3d729538",
   "metadata": {},
   "source": [
    "Компилируя тело этой функции, Python решает, что b – локальная переменная, т. к. ей присваивается значение внутри функции\n",
    "Это не ошибка, а осознанный выбор: Python не заставляет нас объявлять переменные, но предполагает, что всякая переменная, которой присваивается значение в теле функции, локальна."
   ]
  },
  {
   "cell_type": "code",
   "execution_count": null,
   "id": "6e60125f-2eb5-4267-8b0b-79de8ee38cc0",
   "metadata": {},
   "outputs": [
    {
     "name": "stdout",
     "output_type": "stream",
     "text": [
      "3\n",
      "9\n"
     ]
    }
   ],
   "source": [
    "def f3(a):\n",
    "    global b\n",
    "    print(a)\n",
    "    print(b)\n",
    "    b = 9\n",
    "f3(3)"
   ]
  },
  {
   "cell_type": "code",
   "execution_count": null,
   "id": "0ce2c298-e52d-4137-a464-44e599cfa5ec",
   "metadata": {},
   "outputs": [
    {
     "data": {
      "text/plain": [
       "9"
      ]
     },
     "execution_count": 32,
     "metadata": {},
     "output_type": "execute_result"
    }
   ],
   "source": [
    "b"
   ]
  },
  {
   "cell_type": "code",
   "execution_count": null,
   "id": "74dcd94e-5f0a-4032-88f2-903699020263",
   "metadata": {},
   "outputs": [
    {
     "name": "stdout",
     "output_type": "stream",
     "text": [
      "3\n",
      "9\n"
     ]
    }
   ],
   "source": [
    "f3(3)"
   ]
  },
  {
   "cell_type": "markdown",
   "id": "515699b9-094d-4fa1-9f7e-6913af9b1e83",
   "metadata": {},
   "source": [
    "#### Пример 7.6. \n",
    "Дизассемблированная функция f1 из примера 7.4"
   ]
  },
  {
   "cell_type": "code",
   "execution_count": null,
   "id": "43806f20-4311-4bb0-b806-f25145190475",
   "metadata": {},
   "outputs": [
    {
     "name": "stdout",
     "output_type": "stream",
     "text": [
      "  2           0 LOAD_GLOBAL              0 (print)\n",
      "              2 LOAD_FAST                0 (a)\n",
      "              4 CALL_FUNCTION            1\n",
      "              6 POP_TOP\n",
      "\n",
      "  3           8 LOAD_GLOBAL              0 (print)\n",
      "             10 LOAD_GLOBAL              1 (b)\n",
      "             12 CALL_FUNCTION            1\n",
      "             14 POP_TOP\n",
      "             16 LOAD_CONST               0 (None)\n",
      "             18 RETURN_VALUE\n"
     ]
    }
   ],
   "source": [
    "from dis import dis\n",
    "dis(f1)"
   ]
  },
  {
   "cell_type": "markdown",
   "id": "9387c093-15aa-43b5-825a-ead8c63602a8",
   "metadata": {},
   "source": [
    "#### Пример 7.7. \n",
    "Дизассемблированная функция f2 из примера 7.5"
   ]
  },
  {
   "cell_type": "code",
   "execution_count": null,
   "id": "80f313f3-d8f2-4424-8607-69dd75dd5b97",
   "metadata": {},
   "outputs": [
    {
     "name": "stdout",
     "output_type": "stream",
     "text": [
      "  3           0 LOAD_GLOBAL              0 (print)\n",
      "              2 LOAD_FAST                0 (a)\n",
      "              4 CALL_FUNCTION            1\n",
      "              6 POP_TOP\n",
      "\n",
      "  4           8 LOAD_GLOBAL              0 (print)\n",
      "             10 LOAD_FAST                1 (b)\n",
      "             12 CALL_FUNCTION            1\n",
      "             14 POP_TOP\n",
      "\n",
      "  5          16 LOAD_CONST               1 (9)\n",
      "             18 STORE_FAST               1 (b)\n",
      "             20 LOAD_CONST               0 (None)\n",
      "             22 RETURN_VALUE\n"
     ]
    }
   ],
   "source": [
    "from dis import dis\n",
    "dis(f2)"
   ]
  },
  {
   "cell_type": "markdown",
   "id": "b1a20b1c-28ca-4096-8c1e-63ba7fd7de8f",
   "metadata": {},
   "source": [
    "#### Замыкания"
   ]
  },
  {
   "cell_type": "markdown",
   "id": "c367c844-2a36-4d2f-83ba-61e429e69566",
   "metadata": {},
   "source": [
    "Замыкание – это функция с расширенной областью видимости, которая охватывает все неглобальные переменные, на которые есть ссылки в теле функции, хотя они в нем не определены"
   ]
  },
  {
   "cell_type": "markdown",
   "id": "13d5a0ec-e700-4752-9d53-8767c3bf7a34",
   "metadata": {},
   "source": [
    "#### Пример 7.8. \n",
    "average_oo.py: класс для вычисления накопительного среднего"
   ]
  },
  {
   "cell_type": "code",
   "execution_count": null,
   "id": "92578742-4929-4352-adba-5b53f8e5ac94",
   "metadata": {},
   "outputs": [],
   "source": [
    "class Averager():\n",
    "    def __init__(self):\n",
    "        self.series = []\n",
    "\n",
    "    def __call__(self, new_value):\n",
    "        self.series.append(new_value)\n",
    "        total = sum(self.series)\n",
    "        return total/len(self.series)"
   ]
  },
  {
   "cell_type": "code",
   "execution_count": null,
   "id": "e50552b9-e0b5-4655-9375-ab423ae5a143",
   "metadata": {},
   "outputs": [
    {
     "data": {
      "text/plain": [
       "10.0"
      ]
     },
     "execution_count": 4,
     "metadata": {},
     "output_type": "execute_result"
    }
   ],
   "source": [
    "avg = Averager()\n",
    "avg(10)"
   ]
  },
  {
   "cell_type": "code",
   "execution_count": null,
   "id": "9ea2909e-a471-40e1-91fe-df5b6b26d349",
   "metadata": {},
   "outputs": [
    {
     "data": {
      "text/plain": [
       "10.5"
      ]
     },
     "execution_count": 5,
     "metadata": {},
     "output_type": "execute_result"
    }
   ],
   "source": [
    "avg(11)"
   ]
  },
  {
   "cell_type": "code",
   "execution_count": null,
   "id": "f65fd638-2093-40ec-accd-42175f8deee0",
   "metadata": {},
   "outputs": [
    {
     "data": {
      "text/plain": [
       "11.0"
      ]
     },
     "execution_count": 6,
     "metadata": {},
     "output_type": "execute_result"
    }
   ],
   "source": [
    "avg(12)"
   ]
  },
  {
   "cell_type": "markdown",
   "id": "40f13bc6-132b-4c76-8068-115f09c8c299",
   "metadata": {},
   "source": [
    "#### Пример 7.9. \n",
    "average.py: функция высшего порядка для вычисления накопительного\n",
    "среднего"
   ]
  },
  {
   "cell_type": "code",
   "execution_count": null,
   "id": "b883d054-fd35-45ac-9522-4482e30bd93c",
   "metadata": {},
   "outputs": [
    {
     "data": {
      "text/plain": [
       "10.0"
      ]
     },
     "execution_count": 9,
     "metadata": {},
     "output_type": "execute_result"
    }
   ],
   "source": [
    "def make_averager():\n",
    "    series = []\n",
    "\n",
    "    def averager(new_value):\n",
    "        series.append(new_value)\n",
    "        total = sum(series)\n",
    "        return total/len(series)\n",
    "\n",
    "    return averager\n",
    "\n",
    "avg = make_averager()\n",
    "avg(10)"
   ]
  },
  {
   "cell_type": "code",
   "execution_count": null,
   "id": "bab55cf3-791e-4a59-a889-bb2e4858e10c",
   "metadata": {},
   "outputs": [
    {
     "data": {
      "text/plain": [
       "10.5"
      ]
     },
     "execution_count": 10,
     "metadata": {},
     "output_type": "execute_result"
    }
   ],
   "source": [
    "avg(11)"
   ]
  },
  {
   "cell_type": "code",
   "execution_count": null,
   "id": "90a9c123-53eb-4d9f-8692-5bc586a5f139",
   "metadata": {},
   "outputs": [
    {
     "data": {
      "text/plain": [
       "11.0"
      ]
     },
     "execution_count": 11,
     "metadata": {},
     "output_type": "execute_result"
    }
   ],
   "source": [
    "avg(12)"
   ]
  },
  {
   "cell_type": "markdown",
   "id": "9c08cb67-0a46-444a-aa82-2ce8fa869bfc",
   "metadata": {},
   "source": [
    "Обратите внимание, что series – локальная переменная make_averager, потому что инициализация series = [] производится в теле этой функции. Но к моменту вызова avg(10) функция make_averager уже вернула управление, и ее локальная область видимости уничтожена. \n",
    "Внутри averager series является свободной переменной. Этот технический термин означает, что переменная не связана в локальной области видимости"
   ]
  },
  {
   "cell_type": "code",
   "execution_count": null,
   "id": "332c3b00-2311-442c-b6ee-4b6f1b12b1b0",
   "metadata": {},
   "outputs": [
    {
     "data": {
      "text/plain": [
       "('new_value', 'total')"
      ]
     },
     "execution_count": 13,
     "metadata": {},
     "output_type": "execute_result"
    }
   ],
   "source": [
    "avg.__code__.co_varnames"
   ]
  },
  {
   "cell_type": "code",
   "execution_count": null,
   "id": "da7a660f-71df-4c42-a4ec-7e31b514c6bb",
   "metadata": {},
   "outputs": [
    {
     "data": {
      "text/plain": [
       "('series',)"
      ]
     },
     "execution_count": 14,
     "metadata": {},
     "output_type": "execute_result"
    }
   ],
   "source": [
    "avg.__code__.co_freevars"
   ]
  },
  {
   "cell_type": "code",
   "execution_count": null,
   "id": "b5daf2e0-1adf-475f-95dd-5cf6262e628f",
   "metadata": {},
   "outputs": [
    {
     "data": {
      "text/plain": [
       "(<cell at 0x7fdd4af75390: list object at 0x7fdd4ac71c80>,)"
      ]
     },
     "execution_count": 15,
     "metadata": {},
     "output_type": "execute_result"
    }
   ],
   "source": [
    "avg.__closure__"
   ]
  },
  {
   "cell_type": "code",
   "execution_count": null,
   "id": "f9f94a81-6583-4f65-a696-9554fb1a6183",
   "metadata": {},
   "outputs": [
    {
     "data": {
      "text/plain": [
       "[10, 11, 12]"
      ]
     },
     "execution_count": 16,
     "metadata": {},
     "output_type": "execute_result"
    }
   ],
   "source": [
    "avg.__closure__[0].cell_contents"
   ]
  },
  {
   "cell_type": "markdown",
   "id": "588fc08f-318d-40bc-8f85-a0c071bee7aa",
   "metadata": {},
   "source": [
    "Замыкание – это функция, которая запоминает привязки свободных переменных, существовавшие на момент определения функции, так что их можно использовать впоследствии при вызове функции, когда область видимости, в которой она была определена, уже не существует"
   ]
  },
  {
   "cell_type": "markdown",
   "id": "de79c11f-87a3-42a5-ac6d-1a238924e40a",
   "metadata": {},
   "source": [
    "#### Объявление nonlocal"
   ]
  },
  {
   "cell_type": "markdown",
   "id": "5a14e809-65a8-459a-ada4-8d64e24d94e9",
   "metadata": {},
   "source": [
    "#### Пример 7.13. \n",
    "Неправильная функция высшего порядка для вычисления накопительного среднего без хранения всей истории"
   ]
  },
  {
   "cell_type": "code",
   "execution_count": null,
   "id": "e7b3bbe7-403b-441b-bbea-6512bd95c984",
   "metadata": {},
   "outputs": [
    {
     "ename": "UnboundLocalError",
     "evalue": "local variable 'count' referenced before assignment",
     "output_type": "error",
     "traceback": [
      "\u001b[0;31m---------------------------------------------------------------------------\u001b[0m",
      "\u001b[0;31mUnboundLocalError\u001b[0m                         Traceback (most recent call last)",
      "Cell \u001b[0;32mIn[18], line 13\u001b[0m\n\u001b[1;32m     10\u001b[0m     \u001b[38;5;28;01mreturn\u001b[39;00m averager\n\u001b[1;32m     12\u001b[0m avg \u001b[38;5;241m=\u001b[39m make_averager()\n\u001b[0;32m---> 13\u001b[0m \u001b[43mavg\u001b[49m\u001b[43m(\u001b[49m\u001b[38;5;241;43m10\u001b[39;49m\u001b[43m)\u001b[49m\n",
      "Cell \u001b[0;32mIn[18], line 6\u001b[0m, in \u001b[0;36mmake_averager.<locals>.averager\u001b[0;34m(new_value)\u001b[0m\n\u001b[1;32m      5\u001b[0m \u001b[38;5;28;01mdef\u001b[39;00m \u001b[38;5;21maverager\u001b[39m(new_value):\n\u001b[0;32m----> 6\u001b[0m     count \u001b[38;5;241m+\u001b[39m\u001b[38;5;241m=\u001b[39m \u001b[38;5;241m1\u001b[39m\n\u001b[1;32m      7\u001b[0m     total \u001b[38;5;241m+\u001b[39m\u001b[38;5;241m=\u001b[39m new_value\n\u001b[1;32m      8\u001b[0m     \u001b[38;5;28;01mreturn\u001b[39;00m total\u001b[38;5;241m/\u001b[39mcount\n",
      "\u001b[0;31mUnboundLocalError\u001b[0m: local variable 'count' referenced before assignment"
     ]
    }
   ],
   "source": [
    "def make_averager():\n",
    "    count = 0\n",
    "    total = 0\n",
    "\n",
    "    def averager(new_value):\n",
    "        count += 1\n",
    "        total += new_value\n",
    "        return total/count\n",
    "\n",
    "    return averager\n",
    "\n",
    "avg = make_averager()\n",
    "avg(10)"
   ]
  },
  {
   "cell_type": "markdown",
   "id": "1151c0ce-2c75-4162-a799-30b460c07570",
   "metadata": {},
   "source": [
    "Проблема в том, что предложение count += 1 означает то же самое, что count = count + 1, где count – число или любой неизменяемый тип. То есть мы по сути дела присваиваем count значение в теле averager, делая ее тем самым локальной переменной. То же относится к переменной total.\n",
    "В примере 7.9 этой проблемы не было, потому что мы ничего не присваивали переменной series; мы лишь вызывали series.append и передавали ее функциям sum и len. То есть воспользовались тем, что список – изменяемый тип.\n",
    "Однако переменные неизменяемых типов – числа, строки, кортежи и т. д. – разрешается только читать, но не изменять. Если попытаться перепривязать такую переменную, как в случае count = count + 1, то мы неявно создадим локальную переменную count. Она уже не является свободной и потому не запоминается в\n",
    "замыкании."
   ]
  },
  {
   "cell_type": "code",
   "execution_count": null,
   "id": "10780606-568a-4442-bea7-96ee2368defb",
   "metadata": {},
   "outputs": [
    {
     "data": {
      "text/plain": [
       "10.0"
      ]
     },
     "execution_count": 1,
     "metadata": {},
     "output_type": "execute_result"
    }
   ],
   "source": [
    "def make_averager():\n",
    "    count = 0\n",
    "    total = 0\n",
    "\n",
    "    def averager(new_value):\n",
    "        nonlocal count, total\n",
    "        count += 1\n",
    "        total += new_value\n",
    "        return total/count\n",
    "\n",
    "    return averager\n",
    "\n",
    "avg = make_averager()\n",
    "avg(10)"
   ]
  },
  {
   "cell_type": "code",
   "execution_count": null,
   "id": "a8937277-fb1d-4a8f-9b72-380b238d3358",
   "metadata": {},
   "outputs": [
    {
     "data": {
      "text/plain": [
       "10.5"
      ]
     },
     "execution_count": 2,
     "metadata": {},
     "output_type": "execute_result"
    }
   ],
   "source": [
    "avg(11)"
   ]
  },
  {
   "cell_type": "code",
   "execution_count": null,
   "id": "542b8d5f-782f-4f86-934b-1b61887b7cd6",
   "metadata": {},
   "outputs": [
    {
     "data": {
      "text/plain": [
       "11.0"
      ]
     },
     "execution_count": 3,
     "metadata": {},
     "output_type": "execute_result"
    }
   ],
   "source": [
    "avg(12)"
   ]
  },
  {
   "cell_type": "markdown",
   "id": "85b6da53-d1d6-4645-9648-a108d002dfdc",
   "metadata": {},
   "source": [
    "#### Реализация простого декоратора"
   ]
  },
  {
   "cell_type": "markdown",
   "id": "09aefd32-a576-43db-9b9e-a7760f56d6e7",
   "metadata": {},
   "source": [
    "#### Пример 7.15. \n",
    "Простой декоратор для вывода времени выполнения функции"
   ]
  },
  {
   "cell_type": "code",
   "execution_count": null,
   "id": "28a88147-95b7-48be-ae91-0a1ab25d0d64",
   "metadata": {},
   "outputs": [],
   "source": [
    "import time\n",
    "\n",
    "def clock(func):\n",
    "    def clocked(*args):\n",
    "        t0 = time.perf_counter()\n",
    "        result = func(*args)\n",
    "        elapsed = time.perf_counter() - t0\n",
    "        name = func.__name__\n",
    "        arg_str = ', '. join(repr(arg) for arg in args)\n",
    "        print('[%0.8fs] %s(%s) -> %r' % (elapsed, name, arg_str, result))\n",
    "        return result\n",
    "    return clocked"
   ]
  },
  {
   "cell_type": "markdown",
   "id": "8bd1e708-82f1-426f-92f1-814082237245",
   "metadata": {},
   "source": [
    "#### Пример 7.16. \n",
    "Использование декоратора clock"
   ]
  },
  {
   "cell_type": "code",
   "execution_count": null,
   "id": "98f9425c-fcb8-4b25-92dc-bc0e786a7137",
   "metadata": {},
   "outputs": [
    {
     "name": "stdout",
     "output_type": "stream",
     "text": [
      "**************************************** Calling snooze(.123)\n",
      "[2.12446992s] snooze(0.123) -> None\n",
      "**************************************** Calling factorial(6)\n",
      "[2.17122686s] factorial(1) -> 1\n",
      "[44.06751261s] factorial(2) -> 2\n",
      "[59.35804009s] factorial(3) -> 6\n",
      "[66.80371918s] factorial(4) -> 24\n",
      "[97.84870092s] factorial(5) -> 120\n",
      "[106.06643757s] factorial(6) -> 720\n",
      "6! = 720\n"
     ]
    }
   ],
   "source": [
    "@clock\n",
    "def snooze(seconds):\n",
    "    time.sleep(seconds)\n",
    "\n",
    "@clock\n",
    "def factorial(n):\n",
    "    return 1 if n < 2 else n*factorial(n-1)\n",
    "\n",
    "if __name__ == '__main__':\n",
    "    print ('*' * 40, 'Calling snooze(.123)')\n",
    "    snooze(.123)\n",
    "    print ('*' * 40, 'Calling factorial(6)')\n",
    "    print('6! =', factorial(6))"
   ]
  },
  {
   "cell_type": "markdown",
   "id": "62e4cf73-a611-4fd4-9249-92d73c09e025",
   "metadata": {},
   "source": [
    "Напомним, что код"
   ]
  },
  {
   "cell_type": "code",
   "execution_count": null,
   "id": "86cf5d3c-da54-4d05-9429-74241b92b8df",
   "metadata": {},
   "outputs": [],
   "source": [
    "@clock\n",
    "def factorial(n):\n",
    "    return 1 if n < 2 else n*factorial(n-1)"
   ]
  },
  {
   "cell_type": "markdown",
   "id": "e1e5c1ed-f7ca-4b08-8948-4783853e683e",
   "metadata": {},
   "source": [
    "на самом деле эквивалентен следующему:"
   ]
  },
  {
   "cell_type": "code",
   "execution_count": null,
   "id": "80bb0e80-2430-442a-a5c2-5e5899b0d33a",
   "metadata": {},
   "outputs": [],
   "source": [
    "def factorial(n):\n",
    " return 1 if n < 2 else n*factorial(n-1)\n",
    " factorial = clock(factorial)"
   ]
  },
  {
   "cell_type": "markdown",
   "id": "86a4de72-512b-4c8f-8cdc-80683d3daafb",
   "metadata": {},
   "source": [
    "То есть в обоих случаях декоратор clock получает функцию factorial в качестве аргумента func (см. пример 7.15). Затем он создает и возвращает функцию clocked, которую интерпретатор Python за кулисами связывает с именем factorial. На самом деле, если импортировать factorial и вывести атрибут __name__ функции factorial, то мы увидим"
   ]
  },
  {
   "cell_type": "code",
   "execution_count": null,
   "id": "44546206-01be-490b-8cf3-f06234a5ae81",
   "metadata": {},
   "outputs": [
    {
     "data": {
      "text/plain": [
       "'clocked'"
      ]
     },
     "execution_count": 7,
     "metadata": {},
     "output_type": "execute_result"
    }
   ],
   "source": [
    "factorial.__name__"
   ]
  },
  {
   "cell_type": "markdown",
   "id": "156eb551-f9f3-4fcf-af45-0b486a0bad87",
   "metadata": {},
   "source": [
    "Таким образом, factorial действительно хранит ссылку на функцию clocked. Начиная с этого момента, при каждом вызове factorial(n) выполняется clocked(n). А делает clocked вот что:\n",
    "1. Запоминает начальный момент времени t0.\n",
    "2. Вызывает исходную функцию factorial и сохраняет результат.\n",
    "3. Вычисляет, сколько прошло времени.\n",
    "4. Форматирует и печатает собранные данные.\n",
    "5. Возвращает результат, сохраненный на шаге 2.\n",
    "Это типичное поведение декоратора: заменить декорируемую функцию новой, которая принимает те же самые аргументы и (как правило) возвращает то, что должна была бы вернуть деко"
   ]
  },
  {
   "cell_type": "markdown",
   "id": "67f770fe-f0ba-4e66-9f94-1706089ca11f",
   "metadata": {},
   "source": [
    "Декоратор clock, реализованный в примере 7.15, имеет ряд недостатков: он не поддерживает именованные аргументы и маскирует атрибуты __name__ и __doc__ декорированной функции. В примере 7.17 используется декоратор functools.wraps, который копирует необходимые атрибуты из func в clocked. К тому же, в этой новой версии правильно обрабатываются именованные аргументы."
   ]
  },
  {
   "cell_type": "markdown",
   "id": "fd9357de-adee-4e30-b6e0-0df4b60a2cc5",
   "metadata": {},
   "source": [
    "#### Пример 7.17. \n",
    "Улучшенный декоратор clock"
   ]
  },
  {
   "cell_type": "code",
   "execution_count": null,
   "id": "f47d6119-9b8b-4c24-92ba-395899f3b399",
   "metadata": {},
   "outputs": [],
   "source": [
    "import time\n",
    "import functools\n",
    "\n",
    "def clock(func):\n",
    "    @functools.wraps(func)\n",
    "    def clocked(*args, **kwargs):\n",
    "        t0 = time.time()\n",
    "        result = func(*args, **kwargs)\n",
    "        elapsed = time.time() - t0\n",
    "        name = func.__name__\n",
    "        arg_lst = []\n",
    "        if args:\n",
    "            arg_lst.append(', '. join(repr(arg) for arg in args))\n",
    "        if kwargs:\n",
    "            pairs = ['%s=%r' % (k, w) for k, w in sorted(kwargs.items())]\n",
    "            arg_lst.append(', '. join(pairs))\n",
    "        arg_str = ', '.join(arg_lst)\n",
    "        print('[%0.8fs] %s(%s) -> %r' % (elapsed, name, arg_str, result))\n",
    "        return result\n",
    "    return clocked"
   ]
  },
  {
   "cell_type": "code",
   "execution_count": null,
   "id": "de52a09b-46dc-485a-a11f-a291ccd4c63b",
   "metadata": {},
   "outputs": [
    {
     "name": "stdout",
     "output_type": "stream",
     "text": [
      "**************************************** Calling factorial(6)\n",
      "[0.00000119s] factorial(1) -> 1\n",
      "[0.00004697s] factorial(2) -> 2\n",
      "[0.00006008s] factorial(3) -> 6\n",
      "[0.00007129s] factorial(4) -> 24\n",
      "[0.00008273s] factorial(5) -> 120\n",
      "[0.00009513s] factorial(6) -> 720\n",
      "6! = 720\n"
     ]
    }
   ],
   "source": [
    "@clock\n",
    "def factorial(n):\n",
    "    return 1 if n < 2 else n*factorial(n-1)\n",
    "\n",
    "if __name__ == '__main__':\n",
    "    print ('*' * 40, 'Calling factorial(6)')\n",
    "    print('6! =', factorial(6))"
   ]
  },
  {
   "cell_type": "code",
   "execution_count": null,
   "id": "efe7c331-a349-44d8-a461-9e30ebbe3c1b",
   "metadata": {},
   "outputs": [
    {
     "data": {
      "text/plain": [
       "'factorial'"
      ]
     },
     "execution_count": 19,
     "metadata": {},
     "output_type": "execute_result"
    }
   ],
   "source": [
    "factorial.__name__"
   ]
  },
  {
   "cell_type": "markdown",
   "id": "917866e1-ca7a-42c7-88e1-db7045683f37",
   "metadata": {},
   "source": [
    "### Декораторы в стандартной библиотеке"
   ]
  },
  {
   "cell_type": "markdown",
   "id": "1f5948d1-fd4a-40a8-8558-64559b8e4ccf",
   "metadata": {},
   "source": [
    "#### Кэширование с помощью functools.lru_cache"
   ]
  },
  {
   "cell_type": "markdown",
   "id": "154d86ec-082e-4f81-ae9c-d209f075d38e",
   "metadata": {},
   "source": [
    "Декоратор functools.lru_cache очень полезен на практике. Он реализует «запоминание» (memoization): прием оптимизации, смысл которого заключается в сохранении результатов предыдущих дорогостоящих вызовов функции, что позволяет избежать повторного вычисления с теми же аргументами, что и раньше.\n",
    "Акроним LRU расшифровывается как «Least Recently Used» (последний использованный); это означает, что рост кэша ограничивается путем вытеснения тех элементов, к которым давно не было обращений."
   ]
  },
  {
   "cell_type": "markdown",
   "id": "a77696f4-0db3-4e1f-a54a-8aac056ab184",
   "metadata": {},
   "source": [
    "#### Пример 7.18. \n",
    "Очень накладный рекурсивный способ вычисления n-ого числа Фибоначчи"
   ]
  },
  {
   "cell_type": "code",
   "execution_count": null,
   "id": "914f3946-c6fa-4e99-ae80-802c0980f167",
   "metadata": {},
   "outputs": [
    {
     "name": "stdout",
     "output_type": "stream",
     "text": [
      "[0.00000072s] fibonacci(0) -> 0\n",
      "[0.00002933s] fibonacci(1) -> 1\n",
      "[0.01396132s] fibonacci(2) -> 1\n",
      "[0.00000072s] fibonacci(1) -> 1\n",
      "[0.00000095s] fibonacci(0) -> 0\n",
      "[0.00000048s] fibonacci(1) -> 1\n",
      "[0.00002122s] fibonacci(2) -> 1\n",
      "[0.00004244s] fibonacci(3) -> 2\n",
      "[0.01402807s] fibonacci(4) -> 3\n",
      "[0.00000048s] fibonacci(1) -> 1\n",
      "[0.00000048s] fibonacci(0) -> 0\n",
      "[0.00000048s] fibonacci(1) -> 1\n",
      "[0.00001836s] fibonacci(2) -> 1\n",
      "[0.00003695s] fibonacci(3) -> 2\n",
      "[0.00000048s] fibonacci(0) -> 0\n",
      "[0.00000048s] fibonacci(1) -> 1\n",
      "[0.00001931s] fibonacci(2) -> 1\n",
      "[0.00000048s] fibonacci(1) -> 1\n",
      "[0.00000072s] fibonacci(0) -> 0\n",
      "[0.00000048s] fibonacci(1) -> 1\n",
      "[0.00040817s] fibonacci(2) -> 1\n",
      "[0.00044966s] fibonacci(3) -> 2\n",
      "[0.00048876s] fibonacci(4) -> 3\n",
      "[0.00054431s] fibonacci(5) -> 5\n",
      "[0.01459312s] fibonacci(6) -> 8\n",
      "8\n"
     ]
    }
   ],
   "source": [
    "@clock\n",
    "def fibonacci(n):\n",
    "    if n < 2:\n",
    "        return n\n",
    "    return fibonacci (n - 2) + fibonacci(n-1)\n",
    "\n",
    "if __name__ == '__main__':\n",
    "    print(fibonacci(6))"
   ]
  },
  {
   "cell_type": "markdown",
   "id": "79f9aea8-2283-4dfc-b038-6e3c51204812",
   "metadata": {},
   "source": [
    "#### Пример 7.19. \n",
    "Более быстрая реализация с использованием кэширования"
   ]
  },
  {
   "cell_type": "code",
   "execution_count": null,
   "id": "3c830022-8f37-4092-9e09-9d4cee49d478",
   "metadata": {},
   "outputs": [
    {
     "name": "stdout",
     "output_type": "stream",
     "text": [
      "[0.00000072s] fibonacci(0) -> 0\n",
      "[0.00000095s] fibonacci(1) -> 1\n",
      "[0.00011706s] fibonacci(2) -> 1\n",
      "[0.00000095s] fibonacci(3) -> 2\n",
      "[0.00013804s] fibonacci(4) -> 3\n",
      "[0.00000048s] fibonacci(5) -> 5\n",
      "[0.00016856s] fibonacci(6) -> 8\n",
      "8\n"
     ]
    }
   ],
   "source": [
    "import functools\n",
    "\n",
    "@functools.lru_cache()\n",
    "@clock\n",
    "def fibonacci(n):\n",
    "    if n < 2:\n",
    "        return n\n",
    "    return fibonacci (n - 2) + fibonacci(n-1)\n",
    "\n",
    "if __name__ == '__main__':\n",
    "    print(fibonacci(6))"
   ]
  },
  {
   "cell_type": "markdown",
   "id": "ff7bc142-15cd-498d-abec-328868bb0667",
   "metadata": {},
   "source": [
    "#### Одиночная диспетчеризация и обобщенные функции"
   ]
  },
  {
   "cell_type": "code",
   "execution_count": null,
   "id": "e2a15ace-f287-40d4-b8cd-a3a01a09723a",
   "metadata": {},
   "outputs": [],
   "source": []
  }
 ],
 "metadata": {
  "kernelspec": {
   "display_name": ".venv",
   "language": "python",
   "name": "python3"
  },
  "language_info": {
   "codemirror_mode": {
    "name": "ipython",
    "version": 3
   },
   "file_extension": ".py",
   "mimetype": "text/x-python",
   "name": "python",
   "nbconvert_exporter": "python",
   "pygments_lexer": "ipython3",
   "version": "3.10.12"
  }
 },
 "nbformat": 4,
 "nbformat_minor": 5
}
