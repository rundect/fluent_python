{
 "cells": [
  {
   "cell_type": "markdown",
   "id": "8aaafb4f-ed8c-4cf1-9d87-f21dd9623edf",
   "metadata": {},
   "source": [
    "#### Пример 19.1. spinner_thread.py: функции spin и slow"
   ]
  },
  {
   "cell_type": "code",
   "execution_count": 8,
   "id": "dc270621-6814-4fad-a54c-2b821d67e5fc",
   "metadata": {},
   "outputs": [],
   "source": [
    "import itertools\n",
    "import time\n",
    "from threading import Thread, Event\n",
    "\n",
    "\n",
    "def spin(msg: str, done: Event) -> None:\n",
    "    for char in itertools.cycle(r'\\|/-'):\n",
    "        status = f'\\r{char} {msg}'\n",
    "        print(status, end='', flush=True)\n",
    "        if done.wait(.1):\n",
    "            break\n",
    "        blanks = ' ' * len(status)\n",
    "        print(f'\\r{blanks}\\r', end='')\n",
    "\n",
    "\n",
    "def slow() -> int:\n",
    "    time.sleep(3)\n",
    "    return 42"
   ]
  },
  {
   "cell_type": "markdown",
   "id": "1e9a7d44-5832-4910-ab17-6e522ab0c445",
   "metadata": {},
   "source": [
    "#### Пример 19.2. spinner_thread.py: функции supervisor и main"
   ]
  },
  {
   "cell_type": "code",
   "execution_count": 9,
   "id": "5f845492-625d-447b-b604-1d5082aec729",
   "metadata": {},
   "outputs": [
    {
     "name": "stdout",
     "output_type": "stream",
     "text": [
      "spinner object: <Thread(Thread-13 (spin), initial)>\n",
      "/ thinking! Answer: 42\n"
     ]
    }
   ],
   "source": [
    "def supervisor() -> int:\n",
    "    done = Event()\n",
    "    spinner = Thread(target=spin, args=('thinking!', done))\n",
    "    print(f'spinner object: {spinner}')\n",
    "    spinner.start()\n",
    "    result = slow()\n",
    "    done.set()\n",
    "    spinner.join()\n",
    "    return result\n",
    "\n",
    "\n",
    "def main() -> None:\n",
    "    result = supervisor()\n",
    "    print(f'Answer: {result}')\n",
    "\n",
    "\n",
    "if __name__ == '__main__':\n",
    "    main()"
   ]
  },
  {
   "cell_type": "code",
   "execution_count": null,
   "id": "188c11a7-a756-406e-bdf6-81cc8095b0de",
   "metadata": {},
   "outputs": [
    {
     "name": "stdout",
     "output_type": "stream",
     "text": [
      "spinner object: <Process name='Process-1' parent=1107 initial>\n"
     ]
    }
   ],
   "source": [
    "import itertools\n",
    "import time\n",
    "from multiprocessing import Process, Event\n",
    "from multiprocessing import synchronize\n",
    "\n",
    "\n",
    "def spin(msg: str, done: synchronize.Event) -> None:\n",
    "    for char in itertools.cycle(r'\\|/-'):\n",
    "        status = f'\\r{char} {msg}'\n",
    "        print(status, end='', flush=True)\n",
    "        if done.wait(.1):\n",
    "            break\n",
    "        blanks = ' ' * len(status)\n",
    "        print(f'\\r{blanks}\\r', end='')\n",
    "\n",
    "\n",
    "def slow() -> int:\n",
    "    time.sleep(3)\n",
    "    return 42\n",
    "\n",
    "\n",
    "def supervisor() -> int:\n",
    "    done = Event()\n",
    "    spinner = Process(target=spin, args=('thinking!', done))\n",
    "    print(f'spinner object: {spinner}')\n",
    "    spinner.start()\n",
    "    result = slow()\n",
    "    done.set()\n",
    "    spinner.join()\n",
    "    return result\n",
    "\n",
    "\n",
    "def main() -> None:\n",
    "    result = supervisor()\n",
    "    print(f'Answer: {result}')\n",
    "\n",
    "\n",
    "if __name__ == '__main__':\n",
    "    main()"
   ]
  },
  {
   "cell_type": "markdown",
   "id": "9b6dd55d-bc5e-4896-9aaa-ff19adadb730",
   "metadata": {},
   "source": [
    "#### Пример 19.5. spinner_async.py: сопрограммы spin и slow"
   ]
  },
  {
   "cell_type": "code",
   "execution_count": null,
   "id": "e74c4003-b8ec-4b96-8a08-5b4e05b324ba",
   "metadata": {},
   "outputs": [],
   "source": [
    "import asyncio\n",
    "import itertools\n",
    "\n",
    "\n",
    "async def spin(msg: str) -> None:\n",
    "    for char in itertools.cycle(r'\\|/-'):\n",
    "        status = f'\\r{char} {msg}'\n",
    "        print(status, flush=True, end='')\n",
    "        try:\n",
    "            await asyncio.sleep(.1)\n",
    "        except asyncio.CancelledError:\n",
    "            break\n",
    "    blanks = ' ' * len(status)\n",
    "    print(f'\\r{blanks}\\r', end='')\n",
    "\n",
    "\n",
    "async def slow() -> int:\n",
    "    await asyncio.sleep(3)\n",
    "    return 42"
   ]
  },
  {
   "cell_type": "markdown",
   "id": "7eca4193-a314-4210-9f01-f011447e36f9",
   "metadata": {},
   "source": [
    "#### Пример 19.4. spinner_async.py: функция main и сопрограмма supervisor"
   ]
  },
  {
   "cell_type": "code",
   "execution_count": null,
   "id": "ac9dfa95-56a5-41a0-bfcc-42005cf02186",
   "metadata": {},
   "outputs": [],
   "source": [
    "import asyncio\n",
    "\n",
    "def main() -> None:\n",
    "    result = asyncio.run(supervisor())\n",
    "    print(f'Answer: {result}')\n",
    "async def supervisor() -> int:\n",
    "    spinner = asyncio.create_task(spin('thinking!'))\n",
    "    print(f'spinner object: {spinner}')\n",
    "    result = await slow()\n",
    "    spinner.cancel()\n",
    "    return result\n",
    "if __name__ == '__main__':\n",
    "    main()"
   ]
  },
  {
   "cell_type": "code",
   "execution_count": null,
   "id": "4a4f01b4-f6a1-445c-949d-3f9b76c20b0f",
   "metadata": {},
   "outputs": [],
   "source": []
  }
 ],
 "metadata": {
  "kernelspec": {
   "display_name": "Python 3 (ipykernel)",
   "language": "python",
   "name": "python3"
  },
  "language_info": {
   "codemirror_mode": {
    "name": "ipython",
    "version": 3
   },
   "file_extension": ".py",
   "mimetype": "text/x-python",
   "name": "python",
   "nbconvert_exporter": "python",
   "pygments_lexer": "ipython3",
   "version": "3.10.12"
  }
 },
 "nbformat": 4,
 "nbformat_minor": 5
}
