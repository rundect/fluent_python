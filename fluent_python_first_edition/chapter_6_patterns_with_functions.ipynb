{
 "cells": [
  {
   "cell_type": "markdown",
   "id": "fc6cc8c9-7423-44f6-a7f8-16b11f6dd67d",
   "metadata": {},
   "source": [
    "### Паттерн Стратегия"
   ]
  },
  {
   "cell_type": "markdown",
   "id": "218d2e60-059e-49ba-a99b-fb54265fc7ff",
   "metadata": {},
   "source": [
    "####  Пример 6.1. \n",
    "Реализация класса Order с помощью взаимозаменяемых стратегий предоставления скидки"
   ]
  },
  {
   "cell_type": "code",
   "execution_count": 6,
   "id": "e05a9ecb-9cad-4990-a75d-0213e6fbd4c2",
   "metadata": {},
   "outputs": [],
   "source": [
    "from abc import ABC, abstractmethod\n",
    "from collections import namedtuple\n",
    "\n",
    "Customer = namedtuple('Customer', 'name fidelity')\n",
    "\n",
    "\n",
    "class LineItem:\n",
    "    def __init__(self, product, quantity, price):\n",
    "        self.product = product\n",
    "        self.quantity = quantity\n",
    "        self.price = price\n",
    "\n",
    "    def total(self):\n",
    "        return self.price * self.quantity\n",
    "\n",
    "\n",
    "class Order:  # Context\n",
    "    def __init__(self, customer, cart, promotion=None):\n",
    "        self.customer = customer\n",
    "        self.cart = list(cart)\n",
    "        self.promotion = promotion\n",
    "\n",
    "    def total(self):\n",
    "        if not hasattr(self, '__total'):\n",
    "            self.__total = sum(item.total() for item in self.cart)\n",
    "        return self.__total\n",
    "\n",
    "    def due(self):\n",
    "        if self.promotion is None:\n",
    "            discount = 0\n",
    "        else:\n",
    "            discount = self.promotion.discount(self)\n",
    "        return self.total() - discount\n",
    "\n",
    "    def __repr__(self):\n",
    "        fmt = '<Order total: {:.2f} due: {:.2f}>'\n",
    "        return fmt.format(self.total(), self.due())\n",
    "\n",
    "\n",
    "class Promotion(ABC):  # Abstract base class\n",
    "    @abstractmethod\n",
    "    def discount(self, order):\n",
    "        \"\"\"Return discount as a positive dollar amount\"\"\"\n",
    "\n",
    "\n",
    "class FidelityPromo(Promotion):  # First concrete strategy\n",
    "    \"\"\"5 procents for customers with at least 1000 loyalty points\"\"\"\n",
    "\n",
    "    def discount(self, order):\n",
    "        return order.total() * .05 if order.customer.fidelity >= 1000 else 0\n",
    "\n",
    "\n",
    "class BulkItemPromo(Promotion):  # Second concrete strategy\n",
    "    \"\"\"10% discount for each LineItem with a minimum order of 20 units\"\"\"\n",
    "\n",
    "    def discount(self, order):\n",
    "        discount = 0\n",
    "        for item in order.cart:\n",
    "            if item.quantity >= 20:\n",
    "                discount += item.total() * .1\n",
    "        return discount\n",
    "\n",
    "\n",
    "class LargeOrderPromo(Promotion):  # Third concrete strategy\n",
    "    \"\"\"7% discount for orders including at least 10 different items\"\"\"\n",
    "\n",
    "    def discount(self, order):\n",
    "        distinct_items = {item.product for item in order.cart}\n",
    "        if len(distinct_items) >= 10:\n",
    "            return order.total() * .07\n",
    "        return 0"
   ]
  },
  {
   "cell_type": "markdown",
   "id": "8f7cfeec-09cc-40f7-ab19-6558ca3de007",
   "metadata": {},
   "source": [
    "#### Пример 6.2. \n",
    "Пример использования класса Order с различными стратегиями скидок"
   ]
  },
  {
   "cell_type": "code",
   "execution_count": 10,
   "id": "5923e103-e1ec-4236-a127-54059b89c17e",
   "metadata": {},
   "outputs": [
    {
     "data": {
      "text/plain": [
       "<Order total: 42.00 due: 42.00>"
      ]
     },
     "execution_count": 10,
     "metadata": {},
     "output_type": "execute_result"
    }
   ],
   "source": [
    "joe = Customer('John Doe', 0)\n",
    "ann = Customer('Ann Smith', 1100)\n",
    "cart = [LineItem('banana', 4, .5),\n",
    "        LineItem('apple', 10, 1.5),\n",
    "        LineItem('watermelon', 5, 5.0)]\n",
    "Order(joe, cart, FidelityPromo())"
   ]
  },
  {
   "cell_type": "code",
   "execution_count": 8,
   "id": "5622b4ba-d0f6-400b-a211-3e25f446880d",
   "metadata": {},
   "outputs": [
    {
     "data": {
      "text/plain": [
       "<Order total: 42.00 due: 39.90>"
      ]
     },
     "execution_count": 8,
     "metadata": {},
     "output_type": "execute_result"
    }
   ],
   "source": [
    "Order(ann, cart, FidelityPromo())"
   ]
  },
  {
   "cell_type": "code",
   "execution_count": 9,
   "id": "3c81f8f3-a6ba-4bc5-9ca6-afea4006f51f",
   "metadata": {},
   "outputs": [
    {
     "data": {
      "text/plain": [
       "<Order total: 30.00 due: 28.50>"
      ]
     },
     "execution_count": 9,
     "metadata": {},
     "output_type": "execute_result"
    }
   ],
   "source": [
    "banana_cart = [LineItem('banana', 30, .5),\n",
    "               LineItem('apple', 10, 1.5)]\n",
    "Order(joe, banana_cart, BulkItemPromo())"
   ]
  },
  {
   "cell_type": "code",
   "execution_count": 11,
   "id": "09d2b32e-2aed-4827-9f2e-18923d08677d",
   "metadata": {},
   "outputs": [
    {
     "data": {
      "text/plain": [
       "<Order total: 10.00 due: 9.30>"
      ]
     },
     "execution_count": 11,
     "metadata": {},
     "output_type": "execute_result"
    }
   ],
   "source": [
    "long_order = [LineItem(str(item_code), 1, 1.0) for item_code in range(10)]\n",
    "Order(joe, long_order, LargeOrderPromo())"
   ]
  },
  {
   "cell_type": "code",
   "execution_count": 12,
   "id": "b15ccea8-99d4-47bc-9caf-2259574d2336",
   "metadata": {},
   "outputs": [
    {
     "data": {
      "text/plain": [
       "<Order total: 42.00 due: 42.00>"
      ]
     },
     "execution_count": 12,
     "metadata": {},
     "output_type": "execute_result"
    }
   ],
   "source": [
    "Order(joe, cart, LargeOrderPromo())"
   ]
  },
  {
   "cell_type": "markdown",
   "id": "ba733410-c039-4b17-92ef-7a8047a5c76a",
   "metadata": {},
   "source": [
    "#### Пример 6.3. \n",
    "Класс Order, в котором стратегии предоставления скидок реализованы\n",
    "в виде функций"
   ]
  },
  {
   "cell_type": "code",
   "execution_count": 5,
   "id": "b4200683-92c4-4e3e-8b5e-24e23c0d74d8",
   "metadata": {},
   "outputs": [],
   "source": [
    "from collections import namedtuple\n",
    "\n",
    "Customer = namedtuple('Customer', 'name fidelity')\n",
    "\n",
    "\n",
    "class LineItem:\n",
    "    def __init__(self, product, quantity, price):\n",
    "        self.product = product\n",
    "        self.quantity = quantity\n",
    "        self.price = price\n",
    "\n",
    "    def total(self):\n",
    "        return self.price * self.quantity\n",
    "\n",
    "\n",
    "class Order:  # Context\n",
    "    def __init__(self, customer, cart, promotion=None):\n",
    "        self.customer = customer\n",
    "        self.cart = list(cart)\n",
    "        self.promotion = promotion\n",
    "\n",
    "    def total(self):\n",
    "        if not hasattr(self, '__total'):\n",
    "            self.__total = sum(item.total() for item in self.cart)\n",
    "        return self.__total\n",
    "\n",
    "    def due(self):\n",
    "        if self.promotion is None:\n",
    "            discount = 0\n",
    "        else:\n",
    "            discount = self.promotion(self)\n",
    "        return self.total() - discount\n",
    "\n",
    "    def __repr__(self):\n",
    "        fmt = '<Order total: {:.2f} due: {:.2f}>'\n",
    "        return fmt.format(self.total(), self.due())\n",
    "\n",
    "\n",
    "def fidelity_promo(order):\n",
    "        \"\"\"5 procents for customers with at least 1000 loyalty points\"\"\"\n",
    "        return order.total() * .05 if order.customer.fidelity >= 1000 else 0\n",
    "\n",
    "\n",
    "def bulk_item_promo(order):\n",
    "        \"\"\"10% discount for each LineItem with a minimum order of 20 units\"\"\"\n",
    "        discount = 0\n",
    "        for item in order.cart:\n",
    "            if item.quantity >= 20:\n",
    "                discount += item.total() * .1\n",
    "        return discount\n",
    "\n",
    "\n",
    "def large_order_promo(order):\n",
    "        \"\"\"7% discount for orders including at least 10 different items\"\"\"\n",
    "        distinct_items = {item.product for item in order.cart}\n",
    "        if len(distinct_items) >= 10:\n",
    "            return order.total() * .07\n",
    "        return 0"
   ]
  },
  {
   "cell_type": "code",
   "execution_count": 6,
   "id": "30218f38-c0d3-4008-8581-556a753f16c2",
   "metadata": {},
   "outputs": [
    {
     "data": {
      "text/plain": [
       "<Order total: 42.00 due: 42.00>"
      ]
     },
     "execution_count": 6,
     "metadata": {},
     "output_type": "execute_result"
    }
   ],
   "source": [
    "joe = Customer('John Doe', 0)\n",
    "ann = Customer('Ann Smith', 1100)\n",
    "cart = [LineItem('banana', 4, .5),\n",
    "        LineItem('apple', 10, 1.5),\n",
    "        LineItem('watermelon', 5, 5.0)]\n",
    "Order(joe, cart, fidelity_promo)"
   ]
  },
  {
   "cell_type": "code",
   "execution_count": 7,
   "id": "ade34e5b-a7f8-4dbd-adda-2bddf31e706e",
   "metadata": {},
   "outputs": [
    {
     "data": {
      "text/plain": [
       "<Order total: 42.00 due: 39.90>"
      ]
     },
     "execution_count": 7,
     "metadata": {},
     "output_type": "execute_result"
    }
   ],
   "source": [
    "Order(ann, cart, fidelity_promo)"
   ]
  },
  {
   "cell_type": "code",
   "execution_count": 8,
   "id": "af76feeb-8216-41ec-a189-b5731a1394ba",
   "metadata": {},
   "outputs": [
    {
     "data": {
      "text/plain": [
       "<Order total: 30.00 due: 28.50>"
      ]
     },
     "execution_count": 8,
     "metadata": {},
     "output_type": "execute_result"
    }
   ],
   "source": [
    "banana_cart = [LineItem('banana', 30, .5),\n",
    "               LineItem('apple', 10, 1.5)]\n",
    "Order(joe, banana_cart, bulk_item_promo)"
   ]
  },
  {
   "cell_type": "code",
   "execution_count": 10,
   "id": "73f12220-1d1b-4b97-97d9-3c34735cf610",
   "metadata": {},
   "outputs": [
    {
     "data": {
      "text/plain": [
       "<Order total: 10.00 due: 9.30>"
      ]
     },
     "execution_count": 10,
     "metadata": {},
     "output_type": "execute_result"
    }
   ],
   "source": [
    "long_order = [LineItem(str(item_code), 1, 1.0) for item_code in range(10)]\n",
    "Order(joe, long_order, large_order_promo)"
   ]
  },
  {
   "cell_type": "code",
   "execution_count": 11,
   "id": "aaa4a090-f2c6-4968-a733-da50a3c9036e",
   "metadata": {},
   "outputs": [
    {
     "data": {
      "text/plain": [
       "<Order total: 42.00 due: 42.00>"
      ]
     },
     "execution_count": 11,
     "metadata": {},
     "output_type": "execute_result"
    }
   ],
   "source": [
    "Order(joe, cart, large_order_promo)"
   ]
  },
  {
   "cell_type": "markdown",
   "id": "7a261e59-2df9-477c-9483-be91d8107390",
   "metadata": {},
   "source": [
    "#### Пример 6.6. \n",
    "best_promo находит максимальную скидку, перебирая все функции"
   ]
  },
  {
   "cell_type": "code",
   "execution_count": 14,
   "id": "84225905-2599-4621-98b6-76e3b254dbac",
   "metadata": {},
   "outputs": [],
   "source": [
    "promos = [fidelity_promo, bulk_item_promo, large_order_promo]\n",
    "\n",
    "def best_promo(order):\n",
    "    \"\"\"Choose max possible discount\"\"\"\n",
    "    return max(promo(order) for promo in promos)"
   ]
  },
  {
   "cell_type": "markdown",
   "id": "05fa65fa-aa9f-4ed8-904f-96637cb8d76c",
   "metadata": {},
   "source": [
    "#### Пример 6.5. \n",
    "Функция best_promo применяет все стратегии и возвращает наибольшую скидку"
   ]
  },
  {
   "cell_type": "code",
   "execution_count": 15,
   "id": "b2f45016-4766-4055-bb50-a3ecb6fd9915",
   "metadata": {},
   "outputs": [
    {
     "data": {
      "text/plain": [
       "<Order total: 10.00 due: 9.30>"
      ]
     },
     "execution_count": 15,
     "metadata": {},
     "output_type": "execute_result"
    }
   ],
   "source": [
    "Order(joe, long_order, best_promo)"
   ]
  },
  {
   "cell_type": "code",
   "execution_count": 16,
   "id": "acfd801e-5a4c-4889-af1c-bd885de7a38d",
   "metadata": {},
   "outputs": [
    {
     "data": {
      "text/plain": [
       "<Order total: 30.00 due: 28.50>"
      ]
     },
     "execution_count": 16,
     "metadata": {},
     "output_type": "execute_result"
    }
   ],
   "source": [
    "Order(joe, banana_cart, best_promo)"
   ]
  },
  {
   "cell_type": "code",
   "execution_count": 17,
   "id": "4ddccbc6-f5a5-48d8-992c-6dc2c0f3e6dc",
   "metadata": {},
   "outputs": [
    {
     "data": {
      "text/plain": [
       "<Order total: 42.00 due: 39.90>"
      ]
     },
     "execution_count": 17,
     "metadata": {},
     "output_type": "execute_result"
    }
   ],
   "source": [
    "Order(ann, cart, best_promo)"
   ]
  },
  {
   "cell_type": "markdown",
   "id": "7a58de74-71ae-4038-9017-a8fcc9fbe181",
   "metadata": {},
   "source": [
    "#### Пример 6.7. \n",
    "Список promos строится путем просмотра глобального пространства\n",
    "имен модуля"
   ]
  },
  {
   "cell_type": "code",
   "execution_count": 18,
   "id": "105b35da-f690-4826-9202-67a6868eef15",
   "metadata": {},
   "outputs": [],
   "source": [
    "promos = [globals()[name] for name in globals()\n",
    "          if name.endswith('_promo') and name != 'best_promo']\n",
    "def best_promo(order):\n",
    "    \"\"\"Choose max possible discount\"\"\"\n",
    "    return max(promo(order) for promo in promos)"
   ]
  },
  {
   "cell_type": "markdown",
   "id": "34442e23-1fbd-4b8b-acd2-3b8f1acc31b3",
   "metadata": {},
   "source": [
    "#### Пример 6.8. \n",
    "Список promos строится путем интроспекции нового модуля promotions\n",
    "\n",
    "Функция inspect.getmembers возвращает атрибуты объекта – в данном случае\n",
    "модуля promotions – возможно, отфильтрованные предикатом (булевой функцией). Мы пользуемся предикатом inspect.isfunction, чтобы получить только имеющиеся в модуле функции"
   ]
  },
  {
   "cell_type": "code",
   "execution_count": 23,
   "id": "0b7fb636-023c-4887-afe8-41f901efbabd",
   "metadata": {},
   "outputs": [],
   "source": [
    "promotions = \"This is module in this thera are all promotion functions\""
   ]
  },
  {
   "cell_type": "code",
   "execution_count": 24,
   "id": "e6e01bb7-885f-47d9-83a8-b20a7a3c47ee",
   "metadata": {},
   "outputs": [],
   "source": [
    "import inspect\n",
    "promos = [func for name, func in inspect.getmembers(promotions, inspect.isfunction)]\n",
    "def best_promo(order):\n",
    "    \"\"\"Choose max possible discount\"\"\"\n",
    "    return max(promo(order) for promo in promos)"
   ]
  },
  {
   "cell_type": "markdown",
   "id": "2e5f4cd7-39b2-49ad-9342-6fc65f890214",
   "metadata": {},
   "source": [
    "### Паттерн Команда"
   ]
  },
  {
   "cell_type": "code",
   "execution_count": null,
   "id": "1a72b761-0d31-4f05-8126-df46b1f380df",
   "metadata": {},
   "outputs": [],
   "source": []
  }
 ],
 "metadata": {
  "kernelspec": {
   "display_name": "Python 3 (ipykernel)",
   "language": "python",
   "name": "python3"
  },
  "language_info": {
   "codemirror_mode": {
    "name": "ipython",
    "version": 3
   },
   "file_extension": ".py",
   "mimetype": "text/x-python",
   "name": "python",
   "nbconvert_exporter": "python",
   "pygments_lexer": "ipython3",
   "version": "3.10.12"
  }
 },
 "nbformat": 4,
 "nbformat_minor": 5
}
